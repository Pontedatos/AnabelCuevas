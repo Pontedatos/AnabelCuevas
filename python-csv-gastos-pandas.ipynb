{
 "cells": [
  {
   "cell_type": "markdown",
   "metadata": {},
   "source": [
    "# Análisis del Presupuesto Funcional Gastos 2022 con pandas"
   ]
  },
  {
   "cell_type": "markdown",
   "metadata": {},
   "source": [
    "## Instalar las librerías con las que vamos a trabajar \n",
    "\n",
    "Pandas es una librería estándar de python para el manejo de datos"
   ]
  },
  {
   "cell_type": "code",
   "execution_count": 5,
   "metadata": {
    "scrolled": true
   },
   "outputs": [
    {
     "name": "stdout",
     "output_type": "stream",
     "text": [
      "Requirement already satisfied: pandas in /usr/local/lib/python3.8/dist-packages (1.3.1)\r\n",
      "Requirement already satisfied: numpy>=1.17.3 in /usr/local/lib/python3.8/dist-packages (from pandas) (1.21.1)\r\n",
      "Requirement already satisfied: python-dateutil>=2.7.3 in /usr/local/lib/python3.8/dist-packages (from pandas) (2.8.1)\r\n",
      "Requirement already satisfied: pytz>=2017.3 in /usr/local/lib/python3.8/dist-packages (from pandas) (2020.4)\r\n",
      "Requirement already satisfied: six>=1.5 in /usr/lib/python3/dist-packages (from python-dateutil>=2.7.3->pandas) (1.14.0)\r\n"
     ]
    }
   ],
   "source": [
    "!pip install pandas"
   ]
  },
  {
   "cell_type": "markdown",
   "metadata": {},
   "source": [
    "## Configuración de Pandas\n",
    "\n",
    "Importamos la librería pandas y la renombramos como \"pd\" para utilizarla en el resto del notebook"
   ]
  },
  {
   "cell_type": "code",
   "execution_count": 7,
   "metadata": {},
   "outputs": [],
   "source": [
    "import pandas as pd"
   ]
  },
  {
   "cell_type": "markdown",
   "metadata": {},
   "source": [
    "## Creación de variables\n",
    "\n",
    "Creamos la variable que contiene los datos que vamos a usar mediante ```=``` "
   ]
  },
  {
   "cell_type": "code",
   "execution_count": 42,
   "metadata": {},
   "outputs": [],
   "source": [
    "url_movilidad = \"http://datosabiertos.torrent.es/dataset/52cdc35c-6515-4aa8-953f-aeec7e131b16/resource/b16a1948-eb1a-47cf-ac16-1540f7bc13f5/download/ODTRPuntosMovilidadReducida.csv\""
   ]
  },
  {
   "cell_type": "markdown",
   "metadata": {},
   "source": [
    "Comprobamos que la variable se ha creado "
   ]
  },
  {
   "cell_type": "code",
   "execution_count": 43,
   "metadata": {
    "scrolled": true
   },
   "outputs": [
    {
     "data": {
      "text/plain": [
       "'http://datosabiertos.torrent.es/dataset/52cdc35c-6515-4aa8-953f-aeec7e131b16/resource/b16a1948-eb1a-47cf-ac16-1540f7bc13f5/download/ODTRPuntosMovilidadReducida.csv'"
      ]
     },
     "execution_count": 43,
     "metadata": {},
     "output_type": "execute_result"
    }
   ],
   "source": [
    "url_movilidad"
   ]
  },
  {
   "cell_type": "markdown",
   "metadata": {},
   "source": [
    "## Creación del Dataframe"
   ]
  },
  {
   "cell_type": "markdown",
   "metadata": {},
   "source": [
    "Creamos un dataframe de pandas leyendo el csv de la base de datos \n",
    "\n",
    "Según la [documentación oficial de pandas](https://pandas.pydata.org/docs/reference/api/pandas.DataFrame.html), un dataframe es una estructura de datos de dos dimensiones \"de tamaño variable y potencialmente heterogéneos\"."
   ]
  },
  {
   "cell_type": "code",
   "execution_count": 44,
   "metadata": {
    "scrolled": true
   },
   "outputs": [
    {
     "ename": "UnicodeDecodeError",
     "evalue": "'utf-8' codec can't decode byte 0xd3 in position 13: invalid continuation byte",
     "output_type": "error",
     "traceback": [
      "\u001b[0;31m---------------------------------------------------------------------------\u001b[0m",
      "\u001b[0;31mUnicodeDecodeError\u001b[0m                        Traceback (most recent call last)",
      "\u001b[0;32m<ipython-input-44-8e853d455511>\u001b[0m in \u001b[0;36m<module>\u001b[0;34m\u001b[0m\n\u001b[0;32m----> 1\u001b[0;31m \u001b[0mdf\u001b[0m \u001b[0;34m=\u001b[0m \u001b[0mpd\u001b[0m\u001b[0;34m.\u001b[0m\u001b[0mread_csv\u001b[0m\u001b[0;34m(\u001b[0m\u001b[0murl_movilidad\u001b[0m\u001b[0;34m)\u001b[0m\u001b[0;34m\u001b[0m\u001b[0;34m\u001b[0m\u001b[0m\n\u001b[0m",
      "\u001b[0;32m/usr/local/lib/python3.8/dist-packages/pandas/util/_decorators.py\u001b[0m in \u001b[0;36mwrapper\u001b[0;34m(*args, **kwargs)\u001b[0m\n\u001b[1;32m    309\u001b[0m                     \u001b[0mstacklevel\u001b[0m\u001b[0;34m=\u001b[0m\u001b[0mstacklevel\u001b[0m\u001b[0;34m,\u001b[0m\u001b[0;34m\u001b[0m\u001b[0;34m\u001b[0m\u001b[0m\n\u001b[1;32m    310\u001b[0m                 )\n\u001b[0;32m--> 311\u001b[0;31m             \u001b[0;32mreturn\u001b[0m \u001b[0mfunc\u001b[0m\u001b[0;34m(\u001b[0m\u001b[0;34m*\u001b[0m\u001b[0margs\u001b[0m\u001b[0;34m,\u001b[0m \u001b[0;34m**\u001b[0m\u001b[0mkwargs\u001b[0m\u001b[0;34m)\u001b[0m\u001b[0;34m\u001b[0m\u001b[0;34m\u001b[0m\u001b[0m\n\u001b[0m\u001b[1;32m    312\u001b[0m \u001b[0;34m\u001b[0m\u001b[0m\n\u001b[1;32m    313\u001b[0m         \u001b[0;32mreturn\u001b[0m \u001b[0mwrapper\u001b[0m\u001b[0;34m\u001b[0m\u001b[0;34m\u001b[0m\u001b[0m\n",
      "\u001b[0;32m/usr/local/lib/python3.8/dist-packages/pandas/io/parsers/readers.py\u001b[0m in \u001b[0;36mread_csv\u001b[0;34m(filepath_or_buffer, sep, delimiter, header, names, index_col, usecols, squeeze, prefix, mangle_dupe_cols, dtype, engine, converters, true_values, false_values, skipinitialspace, skiprows, skipfooter, nrows, na_values, keep_default_na, na_filter, verbose, skip_blank_lines, parse_dates, infer_datetime_format, keep_date_col, date_parser, dayfirst, cache_dates, iterator, chunksize, compression, thousands, decimal, lineterminator, quotechar, quoting, doublequote, escapechar, comment, encoding, encoding_errors, dialect, error_bad_lines, warn_bad_lines, on_bad_lines, delim_whitespace, low_memory, memory_map, float_precision, storage_options)\u001b[0m\n\u001b[1;32m    584\u001b[0m     \u001b[0mkwds\u001b[0m\u001b[0;34m.\u001b[0m\u001b[0mupdate\u001b[0m\u001b[0;34m(\u001b[0m\u001b[0mkwds_defaults\u001b[0m\u001b[0;34m)\u001b[0m\u001b[0;34m\u001b[0m\u001b[0;34m\u001b[0m\u001b[0m\n\u001b[1;32m    585\u001b[0m \u001b[0;34m\u001b[0m\u001b[0m\n\u001b[0;32m--> 586\u001b[0;31m     \u001b[0;32mreturn\u001b[0m \u001b[0m_read\u001b[0m\u001b[0;34m(\u001b[0m\u001b[0mfilepath_or_buffer\u001b[0m\u001b[0;34m,\u001b[0m \u001b[0mkwds\u001b[0m\u001b[0;34m)\u001b[0m\u001b[0;34m\u001b[0m\u001b[0;34m\u001b[0m\u001b[0m\n\u001b[0m\u001b[1;32m    587\u001b[0m \u001b[0;34m\u001b[0m\u001b[0m\n\u001b[1;32m    588\u001b[0m \u001b[0;34m\u001b[0m\u001b[0m\n",
      "\u001b[0;32m/usr/local/lib/python3.8/dist-packages/pandas/io/parsers/readers.py\u001b[0m in \u001b[0;36m_read\u001b[0;34m(filepath_or_buffer, kwds)\u001b[0m\n\u001b[1;32m    480\u001b[0m \u001b[0;34m\u001b[0m\u001b[0m\n\u001b[1;32m    481\u001b[0m     \u001b[0;31m# Create the parser.\u001b[0m\u001b[0;34m\u001b[0m\u001b[0;34m\u001b[0m\u001b[0;34m\u001b[0m\u001b[0m\n\u001b[0;32m--> 482\u001b[0;31m     \u001b[0mparser\u001b[0m \u001b[0;34m=\u001b[0m \u001b[0mTextFileReader\u001b[0m\u001b[0;34m(\u001b[0m\u001b[0mfilepath_or_buffer\u001b[0m\u001b[0;34m,\u001b[0m \u001b[0;34m**\u001b[0m\u001b[0mkwds\u001b[0m\u001b[0;34m)\u001b[0m\u001b[0;34m\u001b[0m\u001b[0;34m\u001b[0m\u001b[0m\n\u001b[0m\u001b[1;32m    483\u001b[0m \u001b[0;34m\u001b[0m\u001b[0m\n\u001b[1;32m    484\u001b[0m     \u001b[0;32mif\u001b[0m \u001b[0mchunksize\u001b[0m \u001b[0;32mor\u001b[0m \u001b[0miterator\u001b[0m\u001b[0;34m:\u001b[0m\u001b[0;34m\u001b[0m\u001b[0;34m\u001b[0m\u001b[0m\n",
      "\u001b[0;32m/usr/local/lib/python3.8/dist-packages/pandas/io/parsers/readers.py\u001b[0m in \u001b[0;36m__init__\u001b[0;34m(self, f, engine, **kwds)\u001b[0m\n\u001b[1;32m    809\u001b[0m             \u001b[0mself\u001b[0m\u001b[0;34m.\u001b[0m\u001b[0moptions\u001b[0m\u001b[0;34m[\u001b[0m\u001b[0;34m\"has_index_names\"\u001b[0m\u001b[0;34m]\u001b[0m \u001b[0;34m=\u001b[0m \u001b[0mkwds\u001b[0m\u001b[0;34m[\u001b[0m\u001b[0;34m\"has_index_names\"\u001b[0m\u001b[0;34m]\u001b[0m\u001b[0;34m\u001b[0m\u001b[0;34m\u001b[0m\u001b[0m\n\u001b[1;32m    810\u001b[0m \u001b[0;34m\u001b[0m\u001b[0m\n\u001b[0;32m--> 811\u001b[0;31m         \u001b[0mself\u001b[0m\u001b[0;34m.\u001b[0m\u001b[0m_engine\u001b[0m \u001b[0;34m=\u001b[0m \u001b[0mself\u001b[0m\u001b[0;34m.\u001b[0m\u001b[0m_make_engine\u001b[0m\u001b[0;34m(\u001b[0m\u001b[0mself\u001b[0m\u001b[0;34m.\u001b[0m\u001b[0mengine\u001b[0m\u001b[0;34m)\u001b[0m\u001b[0;34m\u001b[0m\u001b[0;34m\u001b[0m\u001b[0m\n\u001b[0m\u001b[1;32m    812\u001b[0m \u001b[0;34m\u001b[0m\u001b[0m\n\u001b[1;32m    813\u001b[0m     \u001b[0;32mdef\u001b[0m \u001b[0mclose\u001b[0m\u001b[0;34m(\u001b[0m\u001b[0mself\u001b[0m\u001b[0;34m)\u001b[0m\u001b[0;34m:\u001b[0m\u001b[0;34m\u001b[0m\u001b[0;34m\u001b[0m\u001b[0m\n",
      "\u001b[0;32m/usr/local/lib/python3.8/dist-packages/pandas/io/parsers/readers.py\u001b[0m in \u001b[0;36m_make_engine\u001b[0;34m(self, engine)\u001b[0m\n\u001b[1;32m   1038\u001b[0m             )\n\u001b[1;32m   1039\u001b[0m         \u001b[0;31m# error: Too many arguments for \"ParserBase\"\u001b[0m\u001b[0;34m\u001b[0m\u001b[0;34m\u001b[0m\u001b[0;34m\u001b[0m\u001b[0m\n\u001b[0;32m-> 1040\u001b[0;31m         \u001b[0;32mreturn\u001b[0m \u001b[0mmapping\u001b[0m\u001b[0;34m[\u001b[0m\u001b[0mengine\u001b[0m\u001b[0;34m]\u001b[0m\u001b[0;34m(\u001b[0m\u001b[0mself\u001b[0m\u001b[0;34m.\u001b[0m\u001b[0mf\u001b[0m\u001b[0;34m,\u001b[0m \u001b[0;34m**\u001b[0m\u001b[0mself\u001b[0m\u001b[0;34m.\u001b[0m\u001b[0moptions\u001b[0m\u001b[0;34m)\u001b[0m  \u001b[0;31m# type: ignore[call-arg]\u001b[0m\u001b[0;34m\u001b[0m\u001b[0;34m\u001b[0m\u001b[0m\n\u001b[0m\u001b[1;32m   1041\u001b[0m \u001b[0;34m\u001b[0m\u001b[0m\n\u001b[1;32m   1042\u001b[0m     \u001b[0;32mdef\u001b[0m \u001b[0m_failover_to_python\u001b[0m\u001b[0;34m(\u001b[0m\u001b[0mself\u001b[0m\u001b[0;34m)\u001b[0m\u001b[0;34m:\u001b[0m\u001b[0;34m\u001b[0m\u001b[0;34m\u001b[0m\u001b[0m\n",
      "\u001b[0;32m/usr/local/lib/python3.8/dist-packages/pandas/io/parsers/c_parser_wrapper.py\u001b[0m in \u001b[0;36m__init__\u001b[0;34m(self, src, **kwds)\u001b[0m\n\u001b[1;32m     67\u001b[0m         \u001b[0mkwds\u001b[0m\u001b[0;34m[\u001b[0m\u001b[0;34m\"dtype\"\u001b[0m\u001b[0;34m]\u001b[0m \u001b[0;34m=\u001b[0m \u001b[0mensure_dtype_objs\u001b[0m\u001b[0;34m(\u001b[0m\u001b[0mkwds\u001b[0m\u001b[0;34m.\u001b[0m\u001b[0mget\u001b[0m\u001b[0;34m(\u001b[0m\u001b[0;34m\"dtype\"\u001b[0m\u001b[0;34m,\u001b[0m \u001b[0;32mNone\u001b[0m\u001b[0;34m)\u001b[0m\u001b[0;34m)\u001b[0m\u001b[0;34m\u001b[0m\u001b[0;34m\u001b[0m\u001b[0m\n\u001b[1;32m     68\u001b[0m         \u001b[0;32mtry\u001b[0m\u001b[0;34m:\u001b[0m\u001b[0;34m\u001b[0m\u001b[0;34m\u001b[0m\u001b[0m\n\u001b[0;32m---> 69\u001b[0;31m             \u001b[0mself\u001b[0m\u001b[0;34m.\u001b[0m\u001b[0m_reader\u001b[0m \u001b[0;34m=\u001b[0m \u001b[0mparsers\u001b[0m\u001b[0;34m.\u001b[0m\u001b[0mTextReader\u001b[0m\u001b[0;34m(\u001b[0m\u001b[0mself\u001b[0m\u001b[0;34m.\u001b[0m\u001b[0mhandles\u001b[0m\u001b[0;34m.\u001b[0m\u001b[0mhandle\u001b[0m\u001b[0;34m,\u001b[0m \u001b[0;34m**\u001b[0m\u001b[0mkwds\u001b[0m\u001b[0;34m)\u001b[0m\u001b[0;34m\u001b[0m\u001b[0;34m\u001b[0m\u001b[0m\n\u001b[0m\u001b[1;32m     70\u001b[0m         \u001b[0;32mexcept\u001b[0m \u001b[0mException\u001b[0m\u001b[0;34m:\u001b[0m\u001b[0;34m\u001b[0m\u001b[0;34m\u001b[0m\u001b[0m\n\u001b[1;32m     71\u001b[0m             \u001b[0mself\u001b[0m\u001b[0;34m.\u001b[0m\u001b[0mhandles\u001b[0m\u001b[0;34m.\u001b[0m\u001b[0mclose\u001b[0m\u001b[0;34m(\u001b[0m\u001b[0;34m)\u001b[0m\u001b[0;34m\u001b[0m\u001b[0;34m\u001b[0m\u001b[0m\n",
      "\u001b[0;32m/usr/local/lib/python3.8/dist-packages/pandas/_libs/parsers.pyx\u001b[0m in \u001b[0;36mpandas._libs.parsers.TextReader.__cinit__\u001b[0;34m()\u001b[0m\n",
      "\u001b[0;32m/usr/local/lib/python3.8/dist-packages/pandas/_libs/parsers.pyx\u001b[0m in \u001b[0;36mpandas._libs.parsers.TextReader._get_header\u001b[0;34m()\u001b[0m\n",
      "\u001b[0;32m/usr/local/lib/python3.8/dist-packages/pandas/_libs/parsers.pyx\u001b[0m in \u001b[0;36mpandas._libs.parsers.TextReader._tokenize_rows\u001b[0;34m()\u001b[0m\n",
      "\u001b[0;32m/usr/local/lib/python3.8/dist-packages/pandas/_libs/parsers.pyx\u001b[0m in \u001b[0;36mpandas._libs.parsers.raise_parser_error\u001b[0;34m()\u001b[0m\n",
      "\u001b[0;31mUnicodeDecodeError\u001b[0m: 'utf-8' codec can't decode byte 0xd3 in position 13: invalid continuation byte"
     ]
    }
   ],
   "source": [
    "df = pd.read_csv(url_movilidad)"
   ]
  },
  {
   "cell_type": "markdown",
   "metadata": {},
   "source": [
    "Como muestra este error, no ha sido posible mostrar el dataframe porque no se ha podido decodificar un byte, \"el byte de continuación no es válido\"\n",
    "\n",
    "Para solucionar este error, según [stack overflow](https://stackoverflow.com/questions/5552555/unicodedecodeerror-invalid-continuation-byte) -un foro de programación en el que se resuelven dudas- era un problema de decodificación en utf-8 \n",
    "\n",
    "UTF-8 según [wikipedia](https://es.wikipedia.org/wiki/UTF-8) \"es un formato de codificación de caracteres\"\n",
    "\n",
    "Para resolver el error, era necesario añadir ````encoding='latin-1'````\n",
    "\n",
    "Según [wikipedia](https://ca.wikipedia.org/wiki/Latin-1), latin-1 \"es una norma de la ISO que define la codificación del alfabeto latino, incluyendo los diacríticos (como letras acentuadas, ñ, ç), y letras especiales (como ß, Ø), necesarios para la escritura de las lenguas originarias de Europa occidental\"."
   ]
  },
  {
   "cell_type": "code",
   "execution_count": 30,
   "metadata": {},
   "outputs": [],
   "source": [
    "df = pd.read_csv(url_movilidad, encoding='latin-1')"
   ]
  },
  {
   "cell_type": "markdown",
   "metadata": {},
   "source": [
    "Añadiendo ````encoding='latin-1'```` ya es posible mostrar el dataframe"
   ]
  },
  {
   "cell_type": "code",
   "execution_count": 27,
   "metadata": {
    "scrolled": true
   },
   "outputs": [
    {
     "data": {
      "text/html": [
       "<div>\n",
       "<style scoped>\n",
       "    .dataframe tbody tr th:only-of-type {\n",
       "        vertical-align: middle;\n",
       "    }\n",
       "\n",
       "    .dataframe tbody tr th {\n",
       "        vertical-align: top;\n",
       "    }\n",
       "\n",
       "    .dataframe thead th {\n",
       "        text-align: right;\n",
       "    }\n",
       "</style>\n",
       "<table border=\"1\" class=\"dataframe\">\n",
       "  <thead>\n",
       "    <tr style=\"text-align: right;\">\n",
       "      <th></th>\n",
       "      <th>TIPUS;DIRECCIÓ;NÚMERO;;</th>\n",
       "    </tr>\n",
       "  </thead>\n",
       "  <tbody>\n",
       "    <tr>\n",
       "      <th>0</th>\n",
       "      <td>PMR;RAMIRO DE MAEZTU;7;;</td>\n",
       "    </tr>\n",
       "    <tr>\n",
       "      <th>1</th>\n",
       "      <td>PMR;6 DE DICIEMBRE;;;</td>\n",
       "    </tr>\n",
       "    <tr>\n",
       "      <th>2</th>\n",
       "      <td>PMR;AVDA AL VEDAT;29;;</td>\n",
       "    </tr>\n",
       "    <tr>\n",
       "      <th>3</th>\n",
       "      <td>PMR;VICENTE BLASCO IBAÑEZ;1;;</td>\n",
       "    </tr>\n",
       "    <tr>\n",
       "      <th>4</th>\n",
       "      <td>PMR;VIRGEN DE LA PAZ;11;;</td>\n",
       "    </tr>\n",
       "    <tr>\n",
       "      <th>...</th>\n",
       "      <td>...</td>\n",
       "    </tr>\n",
       "    <tr>\n",
       "      <th>177</th>\n",
       "      <td>PMR;TOLL LA ALBERCA;;;</td>\n",
       "    </tr>\n",
       "    <tr>\n",
       "      <th>178</th>\n",
       "      <td>PMR;TOLL LA ALBERCA;;;</td>\n",
       "    </tr>\n",
       "    <tr>\n",
       "      <th>179</th>\n",
       "      <td>PMR;VALENCIA;70;;</td>\n",
       "    </tr>\n",
       "    <tr>\n",
       "      <th>180</th>\n",
       "      <td>PMR;VIRGEN DEL OLIVAR;24;;</td>\n",
       "    </tr>\n",
       "    <tr>\n",
       "      <th>181</th>\n",
       "      <td>PMR;XIRIVELLA;25;;</td>\n",
       "    </tr>\n",
       "  </tbody>\n",
       "</table>\n",
       "<p>182 rows × 1 columns</p>\n",
       "</div>"
      ],
      "text/plain": [
       "           TIPUS;DIRECCIÓ;NÚMERO;;\n",
       "0         PMR;RAMIRO DE MAEZTU;7;;\n",
       "1            PMR;6 DE DICIEMBRE;;;\n",
       "2           PMR;AVDA AL VEDAT;29;;\n",
       "3    PMR;VICENTE BLASCO IBAÑEZ;1;;\n",
       "4        PMR;VIRGEN DE LA PAZ;11;;\n",
       "..                             ...\n",
       "177         PMR;TOLL LA ALBERCA;;;\n",
       "178         PMR;TOLL LA ALBERCA;;;\n",
       "179              PMR;VALENCIA;70;;\n",
       "180     PMR;VIRGEN DEL OLIVAR;24;;\n",
       "181             PMR;XIRIVELLA;25;;\n",
       "\n",
       "[182 rows x 1 columns]"
      ]
     },
     "execution_count": 27,
     "metadata": {},
     "output_type": "execute_result"
    }
   ],
   "source": [
    "df"
   ]
  },
  {
   "cell_type": "markdown",
   "metadata": {},
   "source": [
    "Como se puede observar, el csv no ha sido leído correctamente, ya que se muestra una única columna\n",
    "\n",
    "Para separar los datos en columnas, añadimos ```delimiter``` -que sirve para delimitar los datos a partir de ```;```- como argumento "
   ]
  },
  {
   "cell_type": "code",
   "execution_count": 36,
   "metadata": {},
   "outputs": [],
   "source": [
    "df = pd.read_csv(url_movilidad, encoding='latin-1', delimiter = ';')"
   ]
  },
  {
   "cell_type": "markdown",
   "metadata": {},
   "source": [
    "Comprobamos que ha funcionado"
   ]
  },
  {
   "cell_type": "code",
   "execution_count": 37,
   "metadata": {
    "scrolled": true
   },
   "outputs": [
    {
     "data": {
      "text/html": [
       "<div>\n",
       "<style scoped>\n",
       "    .dataframe tbody tr th:only-of-type {\n",
       "        vertical-align: middle;\n",
       "    }\n",
       "\n",
       "    .dataframe tbody tr th {\n",
       "        vertical-align: top;\n",
       "    }\n",
       "\n",
       "    .dataframe thead th {\n",
       "        text-align: right;\n",
       "    }\n",
       "</style>\n",
       "<table border=\"1\" class=\"dataframe\">\n",
       "  <thead>\n",
       "    <tr style=\"text-align: right;\">\n",
       "      <th></th>\n",
       "      <th>TIPUS</th>\n",
       "      <th>DIRECCIÓ</th>\n",
       "      <th>NÚMERO</th>\n",
       "      <th>Unnamed: 3</th>\n",
       "      <th>Unnamed: 4</th>\n",
       "    </tr>\n",
       "  </thead>\n",
       "  <tbody>\n",
       "    <tr>\n",
       "      <th>0</th>\n",
       "      <td>PMR</td>\n",
       "      <td>RAMIRO DE MAEZTU</td>\n",
       "      <td>7</td>\n",
       "      <td>NaN</td>\n",
       "      <td>NaN</td>\n",
       "    </tr>\n",
       "    <tr>\n",
       "      <th>1</th>\n",
       "      <td>PMR</td>\n",
       "      <td>6 DE DICIEMBRE</td>\n",
       "      <td>NaN</td>\n",
       "      <td>NaN</td>\n",
       "      <td>NaN</td>\n",
       "    </tr>\n",
       "    <tr>\n",
       "      <th>2</th>\n",
       "      <td>PMR</td>\n",
       "      <td>AVDA AL VEDAT</td>\n",
       "      <td>29</td>\n",
       "      <td>NaN</td>\n",
       "      <td>NaN</td>\n",
       "    </tr>\n",
       "    <tr>\n",
       "      <th>3</th>\n",
       "      <td>PMR</td>\n",
       "      <td>VICENTE BLASCO IBAÑEZ</td>\n",
       "      <td>1</td>\n",
       "      <td>NaN</td>\n",
       "      <td>NaN</td>\n",
       "    </tr>\n",
       "    <tr>\n",
       "      <th>4</th>\n",
       "      <td>PMR</td>\n",
       "      <td>VIRGEN DE LA PAZ</td>\n",
       "      <td>11</td>\n",
       "      <td>NaN</td>\n",
       "      <td>NaN</td>\n",
       "    </tr>\n",
       "    <tr>\n",
       "      <th>...</th>\n",
       "      <td>...</td>\n",
       "      <td>...</td>\n",
       "      <td>...</td>\n",
       "      <td>...</td>\n",
       "      <td>...</td>\n",
       "    </tr>\n",
       "    <tr>\n",
       "      <th>177</th>\n",
       "      <td>PMR</td>\n",
       "      <td>TOLL LA ALBERCA</td>\n",
       "      <td>NaN</td>\n",
       "      <td>NaN</td>\n",
       "      <td>NaN</td>\n",
       "    </tr>\n",
       "    <tr>\n",
       "      <th>178</th>\n",
       "      <td>PMR</td>\n",
       "      <td>TOLL LA ALBERCA</td>\n",
       "      <td>NaN</td>\n",
       "      <td>NaN</td>\n",
       "      <td>NaN</td>\n",
       "    </tr>\n",
       "    <tr>\n",
       "      <th>179</th>\n",
       "      <td>PMR</td>\n",
       "      <td>VALENCIA</td>\n",
       "      <td>70</td>\n",
       "      <td>NaN</td>\n",
       "      <td>NaN</td>\n",
       "    </tr>\n",
       "    <tr>\n",
       "      <th>180</th>\n",
       "      <td>PMR</td>\n",
       "      <td>VIRGEN DEL OLIVAR</td>\n",
       "      <td>24</td>\n",
       "      <td>NaN</td>\n",
       "      <td>NaN</td>\n",
       "    </tr>\n",
       "    <tr>\n",
       "      <th>181</th>\n",
       "      <td>PMR</td>\n",
       "      <td>XIRIVELLA</td>\n",
       "      <td>25</td>\n",
       "      <td>NaN</td>\n",
       "      <td>NaN</td>\n",
       "    </tr>\n",
       "  </tbody>\n",
       "</table>\n",
       "<p>182 rows × 5 columns</p>\n",
       "</div>"
      ],
      "text/plain": [
       "    TIPUS               DIRECCIÓ NÚMERO  Unnamed: 3  Unnamed: 4\n",
       "0     PMR       RAMIRO DE MAEZTU      7         NaN         NaN\n",
       "1     PMR         6 DE DICIEMBRE    NaN         NaN         NaN\n",
       "2     PMR          AVDA AL VEDAT     29         NaN         NaN\n",
       "3     PMR  VICENTE BLASCO IBAÑEZ      1         NaN         NaN\n",
       "4     PMR       VIRGEN DE LA PAZ     11         NaN         NaN\n",
       "..    ...                    ...    ...         ...         ...\n",
       "177   PMR        TOLL LA ALBERCA    NaN         NaN         NaN\n",
       "178   PMR        TOLL LA ALBERCA    NaN         NaN         NaN\n",
       "179   PMR               VALENCIA     70         NaN         NaN\n",
       "180   PMR      VIRGEN DEL OLIVAR     24         NaN         NaN\n",
       "181   PMR              XIRIVELLA     25         NaN         NaN\n",
       "\n",
       "[182 rows x 5 columns]"
      ]
     },
     "execution_count": 37,
     "metadata": {},
     "output_type": "execute_result"
    }
   ],
   "source": [
    "df"
   ]
  },
  {
   "cell_type": "markdown",
   "metadata": {},
   "source": [
    "## Cambio de base de datos"
   ]
  },
  {
   "cell_type": "markdown",
   "metadata": {},
   "source": [
    "A pesar de que ahora los datos se dividan en columnas, parece que el csv no se termina de leer correctamente, por lo que no se puede analizar la tabla debidamente\n",
    "\n",
    "Por ello, he decidido elegir otra base de datos, definiendo una nueva variable"
   ]
  },
  {
   "cell_type": "code",
   "execution_count": 46,
   "metadata": {},
   "outputs": [],
   "source": [
    "url_prep = \"https://datos.alcobendas.org/dataset/f4e12b31-2f87-4f37-877d-2ad7d7088e68/resource/e40b6eb5-a00f-4541-b8dd-74e36a493593/download/presupuesto-funcional-gastos-2022.-normalizado.csv\""
   ]
  },
  {
   "cell_type": "markdown",
   "metadata": {},
   "source": [
    "Comprobamos que la variable se ha creado"
   ]
  },
  {
   "cell_type": "code",
   "execution_count": 47,
   "metadata": {
    "scrolled": true
   },
   "outputs": [
    {
     "data": {
      "text/plain": [
       "'https://datos.alcobendas.org/dataset/f4e12b31-2f87-4f37-877d-2ad7d7088e68/resource/e40b6eb5-a00f-4541-b8dd-74e36a493593/download/presupuesto-funcional-gastos-2022.-normalizado.csv'"
      ]
     },
     "execution_count": 47,
     "metadata": {},
     "output_type": "execute_result"
    }
   ],
   "source": [
    "url_prep"
   ]
  },
  {
   "cell_type": "markdown",
   "metadata": {},
   "source": [
    "## Creación de un nuevo dataframe\n",
    "\n",
    "Una vez definida la nueva variable, creamos un nuevo dataframe de pandas leyendo la nueva base de datos \n"
   ]
  },
  {
   "cell_type": "code",
   "execution_count": 48,
   "metadata": {},
   "outputs": [],
   "source": [
    "df = pd.read_csv(url_prep)"
   ]
  },
  {
   "cell_type": "markdown",
   "metadata": {},
   "source": [
    "A continuación mostramos el nuevo dataframe"
   ]
  },
  {
   "cell_type": "code",
   "execution_count": 49,
   "metadata": {},
   "outputs": [
    {
     "data": {
      "text/html": [
       "<div>\n",
       "<style scoped>\n",
       "    .dataframe tbody tr th:only-of-type {\n",
       "        vertical-align: middle;\n",
       "    }\n",
       "\n",
       "    .dataframe tbody tr th {\n",
       "        vertical-align: top;\n",
       "    }\n",
       "\n",
       "    .dataframe thead th {\n",
       "        text-align: right;\n",
       "    }\n",
       "</style>\n",
       "<table border=\"1\" class=\"dataframe\">\n",
       "  <thead>\n",
       "    <tr style=\"text-align: right;\">\n",
       "      <th></th>\n",
       "      <th>Código</th>\n",
       "      <th>Nombre</th>\n",
       "      <th>1: GASTOS DE PERSONAL</th>\n",
       "      <th>2: GASTOS CORRIENTES EN BIENES Y SERVICIOS</th>\n",
       "      <th>3: GASTOS FINANCIEROS</th>\n",
       "      <th>4: TRANSFERENCIAS CORRIENTES</th>\n",
       "      <th>5: FONDO DE CONTINGENCIA Y OTROS IMPREVISTOS</th>\n",
       "      <th>6: INVERSIONES REALES</th>\n",
       "      <th>7: TRANSFERENCIAS DE CAPITAL</th>\n",
       "      <th>8: ACTIVOS FINANCIEROS</th>\n",
       "      <th>9: PASIVOS FINANCIEROS</th>\n",
       "    </tr>\n",
       "  </thead>\n",
       "  <tbody>\n",
       "    <tr>\n",
       "      <th>0</th>\n",
       "      <td>NaN</td>\n",
       "      <td>Clasificación por programas</td>\n",
       "      <td>77198659.02</td>\n",
       "      <td>73573032.97</td>\n",
       "      <td>613271.26</td>\n",
       "      <td>6294124.25</td>\n",
       "      <td>528.74</td>\n",
       "      <td>33174136.93</td>\n",
       "      <td>80000.0</td>\n",
       "      <td>195100.0</td>\n",
       "      <td>0</td>\n",
       "    </tr>\n",
       "    <tr>\n",
       "      <th>1</th>\n",
       "      <td>0.0</td>\n",
       "      <td>DEUDA PÚBLICA</td>\n",
       "      <td>0.00</td>\n",
       "      <td>0.00</td>\n",
       "      <td>15000.00</td>\n",
       "      <td>0.00</td>\n",
       "      <td>0.00</td>\n",
       "      <td>0.00</td>\n",
       "      <td>0.0</td>\n",
       "      <td>0.0</td>\n",
       "      <td>0</td>\n",
       "    </tr>\n",
       "    <tr>\n",
       "      <th>2</th>\n",
       "      <td>1.0</td>\n",
       "      <td>Deuda Pública</td>\n",
       "      <td>0.00</td>\n",
       "      <td>0.00</td>\n",
       "      <td>15000.00</td>\n",
       "      <td>0.00</td>\n",
       "      <td>0.00</td>\n",
       "      <td>0.00</td>\n",
       "      <td>0.0</td>\n",
       "      <td>0.0</td>\n",
       "      <td>0</td>\n",
       "    </tr>\n",
       "    <tr>\n",
       "      <th>3</th>\n",
       "      <td>11.0</td>\n",
       "      <td>Deuda Pública</td>\n",
       "      <td>0.00</td>\n",
       "      <td>0.00</td>\n",
       "      <td>15000.00</td>\n",
       "      <td>0.00</td>\n",
       "      <td>0.00</td>\n",
       "      <td>0.00</td>\n",
       "      <td>0.0</td>\n",
       "      <td>0.0</td>\n",
       "      <td>0</td>\n",
       "    </tr>\n",
       "    <tr>\n",
       "      <th>4</th>\n",
       "      <td>1.0</td>\n",
       "      <td>SERVICIOS PÚBLICOS BÁSICOS</td>\n",
       "      <td>19082029.47</td>\n",
       "      <td>30794122.81</td>\n",
       "      <td>0.00</td>\n",
       "      <td>128000.00</td>\n",
       "      <td>0.00</td>\n",
       "      <td>18514157.84</td>\n",
       "      <td>0.0</td>\n",
       "      <td>0.0</td>\n",
       "      <td>0</td>\n",
       "    </tr>\n",
       "    <tr>\n",
       "      <th>...</th>\n",
       "      <td>...</td>\n",
       "      <td>...</td>\n",
       "      <td>...</td>\n",
       "      <td>...</td>\n",
       "      <td>...</td>\n",
       "      <td>...</td>\n",
       "      <td>...</td>\n",
       "      <td>...</td>\n",
       "      <td>...</td>\n",
       "      <td>...</td>\n",
       "      <td>...</td>\n",
       "    </tr>\n",
       "    <tr>\n",
       "      <th>130</th>\n",
       "      <td>94.0</td>\n",
       "      <td>Transferencias a otras Administraciones Públicas</td>\n",
       "      <td>0.00</td>\n",
       "      <td>0.00</td>\n",
       "      <td>0.00</td>\n",
       "      <td>0.00</td>\n",
       "      <td>0.00</td>\n",
       "      <td>0.00</td>\n",
       "      <td>0.0</td>\n",
       "      <td>0.0</td>\n",
       "      <td>0</td>\n",
       "    </tr>\n",
       "    <tr>\n",
       "      <th>131</th>\n",
       "      <td>941.0</td>\n",
       "      <td>Transferencias a Comunidades Autónomas</td>\n",
       "      <td>0.00</td>\n",
       "      <td>0.00</td>\n",
       "      <td>0.00</td>\n",
       "      <td>0.00</td>\n",
       "      <td>0.00</td>\n",
       "      <td>0.00</td>\n",
       "      <td>0.0</td>\n",
       "      <td>0.0</td>\n",
       "      <td>0</td>\n",
       "    </tr>\n",
       "    <tr>\n",
       "      <th>132</th>\n",
       "      <td>942.0</td>\n",
       "      <td>Transferencias a Entidades Locales territoriales</td>\n",
       "      <td>0.00</td>\n",
       "      <td>0.00</td>\n",
       "      <td>0.00</td>\n",
       "      <td>0.00</td>\n",
       "      <td>0.00</td>\n",
       "      <td>0.00</td>\n",
       "      <td>0.0</td>\n",
       "      <td>0.0</td>\n",
       "      <td>0</td>\n",
       "    </tr>\n",
       "    <tr>\n",
       "      <th>133</th>\n",
       "      <td>943.0</td>\n",
       "      <td>Transferencias a otras Entidades Locales</td>\n",
       "      <td>0.00</td>\n",
       "      <td>0.00</td>\n",
       "      <td>0.00</td>\n",
       "      <td>0.00</td>\n",
       "      <td>0.00</td>\n",
       "      <td>0.00</td>\n",
       "      <td>0.0</td>\n",
       "      <td>0.0</td>\n",
       "      <td>0</td>\n",
       "    </tr>\n",
       "    <tr>\n",
       "      <th>134</th>\n",
       "      <td>944.0</td>\n",
       "      <td>Transferencias a la Administración General del...</td>\n",
       "      <td>0.00</td>\n",
       "      <td>0.00</td>\n",
       "      <td>0.00</td>\n",
       "      <td>0.00</td>\n",
       "      <td>0.00</td>\n",
       "      <td>0.00</td>\n",
       "      <td>0.0</td>\n",
       "      <td>0.0</td>\n",
       "      <td>0</td>\n",
       "    </tr>\n",
       "  </tbody>\n",
       "</table>\n",
       "<p>135 rows × 11 columns</p>\n",
       "</div>"
      ],
      "text/plain": [
       "     Código                                             Nombre  \\\n",
       "0       NaN                        Clasificación por programas   \n",
       "1       0.0                                      DEUDA PÚBLICA   \n",
       "2       1.0                                      Deuda Pública   \n",
       "3      11.0                                      Deuda Pública   \n",
       "4       1.0                         SERVICIOS PÚBLICOS BÁSICOS   \n",
       "..      ...                                                ...   \n",
       "130    94.0   Transferencias a otras Administraciones Públicas   \n",
       "131   941.0             Transferencias a Comunidades Autónomas   \n",
       "132   942.0   Transferencias a Entidades Locales territoriales   \n",
       "133   943.0           Transferencias a otras Entidades Locales   \n",
       "134   944.0  Transferencias a la Administración General del...   \n",
       "\n",
       "     1: GASTOS DE PERSONAL  2: GASTOS CORRIENTES EN BIENES Y SERVICIOS  \\\n",
       "0              77198659.02                                 73573032.97   \n",
       "1                     0.00                                        0.00   \n",
       "2                     0.00                                        0.00   \n",
       "3                     0.00                                        0.00   \n",
       "4              19082029.47                                 30794122.81   \n",
       "..                     ...                                         ...   \n",
       "130                   0.00                                        0.00   \n",
       "131                   0.00                                        0.00   \n",
       "132                   0.00                                        0.00   \n",
       "133                   0.00                                        0.00   \n",
       "134                   0.00                                        0.00   \n",
       "\n",
       "     3: GASTOS FINANCIEROS  4: TRANSFERENCIAS CORRIENTES  \\\n",
       "0                613271.26                    6294124.25   \n",
       "1                 15000.00                          0.00   \n",
       "2                 15000.00                          0.00   \n",
       "3                 15000.00                          0.00   \n",
       "4                     0.00                     128000.00   \n",
       "..                     ...                           ...   \n",
       "130                   0.00                          0.00   \n",
       "131                   0.00                          0.00   \n",
       "132                   0.00                          0.00   \n",
       "133                   0.00                          0.00   \n",
       "134                   0.00                          0.00   \n",
       "\n",
       "     5: FONDO DE CONTINGENCIA Y OTROS IMPREVISTOS  6: INVERSIONES REALES  \\\n",
       "0                                          528.74            33174136.93   \n",
       "1                                            0.00                   0.00   \n",
       "2                                            0.00                   0.00   \n",
       "3                                            0.00                   0.00   \n",
       "4                                            0.00            18514157.84   \n",
       "..                                            ...                    ...   \n",
       "130                                          0.00                   0.00   \n",
       "131                                          0.00                   0.00   \n",
       "132                                          0.00                   0.00   \n",
       "133                                          0.00                   0.00   \n",
       "134                                          0.00                   0.00   \n",
       "\n",
       "     7: TRANSFERENCIAS DE CAPITAL  8: ACTIVOS FINANCIEROS  \\\n",
       "0                         80000.0                195100.0   \n",
       "1                             0.0                     0.0   \n",
       "2                             0.0                     0.0   \n",
       "3                             0.0                     0.0   \n",
       "4                             0.0                     0.0   \n",
       "..                            ...                     ...   \n",
       "130                           0.0                     0.0   \n",
       "131                           0.0                     0.0   \n",
       "132                           0.0                     0.0   \n",
       "133                           0.0                     0.0   \n",
       "134                           0.0                     0.0   \n",
       "\n",
       "     9: PASIVOS FINANCIEROS  \n",
       "0                         0  \n",
       "1                         0  \n",
       "2                         0  \n",
       "3                         0  \n",
       "4                         0  \n",
       "..                      ...  \n",
       "130                       0  \n",
       "131                       0  \n",
       "132                       0  \n",
       "133                       0  \n",
       "134                       0  \n",
       "\n",
       "[135 rows x 11 columns]"
      ]
     },
     "execution_count": 49,
     "metadata": {},
     "output_type": "execute_result"
    }
   ],
   "source": [
    "df"
   ]
  },
  {
   "cell_type": "markdown",
   "metadata": {},
   "source": [
    "## Exploración del dataframe\n",
    "\n",
    "### Información general \n",
    "\n",
    "Mediante ```df.info()``` se muestra la información de la tabla \n",
    "\n",
    "Según la [página web de pandas](https://pandas.pydata.org/docs/reference/api/pandas.DataFrame.info.html), muestra información sobre el dataframe entre la que incluye el índice (RangeIndex) con el número de entradas, el número de columnas que hay (Data Columns), el nombre de las columnas (Colum), la cantidad de datos nulos que posee la tabla (Non-Null Count), el tipo de variable de las columnas (Dtype) y el tamaño (memory usage)"
   ]
  },
  {
   "cell_type": "code",
   "execution_count": 50,
   "metadata": {},
   "outputs": [
    {
     "name": "stdout",
     "output_type": "stream",
     "text": [
      "<class 'pandas.core.frame.DataFrame'>\n",
      "RangeIndex: 135 entries, 0 to 134\n",
      "Data columns (total 11 columns):\n",
      " #   Column                                        Non-Null Count  Dtype  \n",
      "---  ------                                        --------------  -----  \n",
      " 0   Código                                        134 non-null    float64\n",
      " 1   Nombre                                        135 non-null    object \n",
      " 2   1: GASTOS DE PERSONAL                         135 non-null    float64\n",
      " 3   2: GASTOS CORRIENTES EN BIENES Y SERVICIOS    135 non-null    float64\n",
      " 4   3: GASTOS FINANCIEROS                         135 non-null    float64\n",
      " 5   4: TRANSFERENCIAS CORRIENTES                  135 non-null    float64\n",
      " 6   5: FONDO DE CONTINGENCIA Y OTROS IMPREVISTOS  135 non-null    float64\n",
      " 7   6: INVERSIONES REALES                         135 non-null    float64\n",
      " 8   7: TRANSFERENCIAS DE CAPITAL                  135 non-null    float64\n",
      " 9   8: ACTIVOS FINANCIEROS                        135 non-null    float64\n",
      " 10  9: PASIVOS FINANCIEROS                        135 non-null    int64  \n",
      "dtypes: float64(9), int64(1), object(1)\n",
      "memory usage: 11.7+ KB\n"
     ]
    }
   ],
   "source": [
    "df.info()"
   ]
  },
  {
   "cell_type": "markdown",
   "metadata": {},
   "source": [
    "### Cabecera\n",
    "\n",
    "Mediante ```df.head()``` se muestran las primeras entradas de la tabla, entre paréntesis se pueden indicar cuántas entradas se quieren mostrar"
   ]
  },
  {
   "cell_type": "code",
   "execution_count": 51,
   "metadata": {},
   "outputs": [
    {
     "data": {
      "text/html": [
       "<div>\n",
       "<style scoped>\n",
       "    .dataframe tbody tr th:only-of-type {\n",
       "        vertical-align: middle;\n",
       "    }\n",
       "\n",
       "    .dataframe tbody tr th {\n",
       "        vertical-align: top;\n",
       "    }\n",
       "\n",
       "    .dataframe thead th {\n",
       "        text-align: right;\n",
       "    }\n",
       "</style>\n",
       "<table border=\"1\" class=\"dataframe\">\n",
       "  <thead>\n",
       "    <tr style=\"text-align: right;\">\n",
       "      <th></th>\n",
       "      <th>Código</th>\n",
       "      <th>Nombre</th>\n",
       "      <th>1: GASTOS DE PERSONAL</th>\n",
       "      <th>2: GASTOS CORRIENTES EN BIENES Y SERVICIOS</th>\n",
       "      <th>3: GASTOS FINANCIEROS</th>\n",
       "      <th>4: TRANSFERENCIAS CORRIENTES</th>\n",
       "      <th>5: FONDO DE CONTINGENCIA Y OTROS IMPREVISTOS</th>\n",
       "      <th>6: INVERSIONES REALES</th>\n",
       "      <th>7: TRANSFERENCIAS DE CAPITAL</th>\n",
       "      <th>8: ACTIVOS FINANCIEROS</th>\n",
       "      <th>9: PASIVOS FINANCIEROS</th>\n",
       "    </tr>\n",
       "  </thead>\n",
       "  <tbody>\n",
       "    <tr>\n",
       "      <th>0</th>\n",
       "      <td>NaN</td>\n",
       "      <td>Clasificación por programas</td>\n",
       "      <td>77198659.02</td>\n",
       "      <td>73573032.97</td>\n",
       "      <td>613271.26</td>\n",
       "      <td>6294124.25</td>\n",
       "      <td>528.74</td>\n",
       "      <td>33174136.93</td>\n",
       "      <td>80000.0</td>\n",
       "      <td>195100.0</td>\n",
       "      <td>0</td>\n",
       "    </tr>\n",
       "    <tr>\n",
       "      <th>1</th>\n",
       "      <td>0.0</td>\n",
       "      <td>DEUDA PÚBLICA</td>\n",
       "      <td>0.00</td>\n",
       "      <td>0.00</td>\n",
       "      <td>15000.00</td>\n",
       "      <td>0.00</td>\n",
       "      <td>0.00</td>\n",
       "      <td>0.00</td>\n",
       "      <td>0.0</td>\n",
       "      <td>0.0</td>\n",
       "      <td>0</td>\n",
       "    </tr>\n",
       "    <tr>\n",
       "      <th>2</th>\n",
       "      <td>1.0</td>\n",
       "      <td>Deuda Pública</td>\n",
       "      <td>0.00</td>\n",
       "      <td>0.00</td>\n",
       "      <td>15000.00</td>\n",
       "      <td>0.00</td>\n",
       "      <td>0.00</td>\n",
       "      <td>0.00</td>\n",
       "      <td>0.0</td>\n",
       "      <td>0.0</td>\n",
       "      <td>0</td>\n",
       "    </tr>\n",
       "    <tr>\n",
       "      <th>3</th>\n",
       "      <td>11.0</td>\n",
       "      <td>Deuda Pública</td>\n",
       "      <td>0.00</td>\n",
       "      <td>0.00</td>\n",
       "      <td>15000.00</td>\n",
       "      <td>0.00</td>\n",
       "      <td>0.00</td>\n",
       "      <td>0.00</td>\n",
       "      <td>0.0</td>\n",
       "      <td>0.0</td>\n",
       "      <td>0</td>\n",
       "    </tr>\n",
       "    <tr>\n",
       "      <th>4</th>\n",
       "      <td>1.0</td>\n",
       "      <td>SERVICIOS PÚBLICOS BÁSICOS</td>\n",
       "      <td>19082029.47</td>\n",
       "      <td>30794122.81</td>\n",
       "      <td>0.00</td>\n",
       "      <td>128000.00</td>\n",
       "      <td>0.00</td>\n",
       "      <td>18514157.84</td>\n",
       "      <td>0.0</td>\n",
       "      <td>0.0</td>\n",
       "      <td>0</td>\n",
       "    </tr>\n",
       "  </tbody>\n",
       "</table>\n",
       "</div>"
      ],
      "text/plain": [
       "   Código                       Nombre  1: GASTOS DE PERSONAL  \\\n",
       "0     NaN  Clasificación por programas            77198659.02   \n",
       "1     0.0                DEUDA PÚBLICA                   0.00   \n",
       "2     1.0                Deuda Pública                   0.00   \n",
       "3    11.0                Deuda Pública                   0.00   \n",
       "4     1.0   SERVICIOS PÚBLICOS BÁSICOS            19082029.47   \n",
       "\n",
       "   2: GASTOS CORRIENTES EN BIENES Y SERVICIOS  3: GASTOS FINANCIEROS  \\\n",
       "0                                 73573032.97              613271.26   \n",
       "1                                        0.00               15000.00   \n",
       "2                                        0.00               15000.00   \n",
       "3                                        0.00               15000.00   \n",
       "4                                 30794122.81                   0.00   \n",
       "\n",
       "   4: TRANSFERENCIAS CORRIENTES  5: FONDO DE CONTINGENCIA Y OTROS IMPREVISTOS  \\\n",
       "0                    6294124.25                                        528.74   \n",
       "1                          0.00                                          0.00   \n",
       "2                          0.00                                          0.00   \n",
       "3                          0.00                                          0.00   \n",
       "4                     128000.00                                          0.00   \n",
       "\n",
       "   6: INVERSIONES REALES  7: TRANSFERENCIAS DE CAPITAL  \\\n",
       "0            33174136.93                       80000.0   \n",
       "1                   0.00                           0.0   \n",
       "2                   0.00                           0.0   \n",
       "3                   0.00                           0.0   \n",
       "4            18514157.84                           0.0   \n",
       "\n",
       "   8: ACTIVOS FINANCIEROS  9: PASIVOS FINANCIEROS  \n",
       "0                195100.0                       0  \n",
       "1                     0.0                       0  \n",
       "2                     0.0                       0  \n",
       "3                     0.0                       0  \n",
       "4                     0.0                       0  "
      ]
     },
     "execution_count": 51,
     "metadata": {},
     "output_type": "execute_result"
    }
   ],
   "source": [
    "df.head()"
   ]
  },
  {
   "cell_type": "markdown",
   "metadata": {},
   "source": [
    "### Cola \n",
    "\n",
    "Ahora se muestran las últimas entradas de la tabla (tail) mediante ```df.tail()``` \n",
    "\n",
    "De nuevo, entre paréntesis se puede espeficiar el número de entradas que se quieren mostrar"
   ]
  },
  {
   "cell_type": "code",
   "execution_count": 54,
   "metadata": {},
   "outputs": [
    {
     "data": {
      "text/html": [
       "<div>\n",
       "<style scoped>\n",
       "    .dataframe tbody tr th:only-of-type {\n",
       "        vertical-align: middle;\n",
       "    }\n",
       "\n",
       "    .dataframe tbody tr th {\n",
       "        vertical-align: top;\n",
       "    }\n",
       "\n",
       "    .dataframe thead th {\n",
       "        text-align: right;\n",
       "    }\n",
       "</style>\n",
       "<table border=\"1\" class=\"dataframe\">\n",
       "  <thead>\n",
       "    <tr style=\"text-align: right;\">\n",
       "      <th></th>\n",
       "      <th>Código</th>\n",
       "      <th>Nombre</th>\n",
       "      <th>1: GASTOS DE PERSONAL</th>\n",
       "      <th>2: GASTOS CORRIENTES EN BIENES Y SERVICIOS</th>\n",
       "      <th>3: GASTOS FINANCIEROS</th>\n",
       "      <th>4: TRANSFERENCIAS CORRIENTES</th>\n",
       "      <th>5: FONDO DE CONTINGENCIA Y OTROS IMPREVISTOS</th>\n",
       "      <th>6: INVERSIONES REALES</th>\n",
       "      <th>7: TRANSFERENCIAS DE CAPITAL</th>\n",
       "      <th>8: ACTIVOS FINANCIEROS</th>\n",
       "      <th>9: PASIVOS FINANCIEROS</th>\n",
       "    </tr>\n",
       "  </thead>\n",
       "  <tbody>\n",
       "    <tr>\n",
       "      <th>130</th>\n",
       "      <td>94.0</td>\n",
       "      <td>Transferencias a otras Administraciones Públicas</td>\n",
       "      <td>0.0</td>\n",
       "      <td>0.0</td>\n",
       "      <td>0.0</td>\n",
       "      <td>0.0</td>\n",
       "      <td>0.0</td>\n",
       "      <td>0.0</td>\n",
       "      <td>0.0</td>\n",
       "      <td>0.0</td>\n",
       "      <td>0</td>\n",
       "    </tr>\n",
       "    <tr>\n",
       "      <th>131</th>\n",
       "      <td>941.0</td>\n",
       "      <td>Transferencias a Comunidades Autónomas</td>\n",
       "      <td>0.0</td>\n",
       "      <td>0.0</td>\n",
       "      <td>0.0</td>\n",
       "      <td>0.0</td>\n",
       "      <td>0.0</td>\n",
       "      <td>0.0</td>\n",
       "      <td>0.0</td>\n",
       "      <td>0.0</td>\n",
       "      <td>0</td>\n",
       "    </tr>\n",
       "    <tr>\n",
       "      <th>132</th>\n",
       "      <td>942.0</td>\n",
       "      <td>Transferencias a Entidades Locales territoriales</td>\n",
       "      <td>0.0</td>\n",
       "      <td>0.0</td>\n",
       "      <td>0.0</td>\n",
       "      <td>0.0</td>\n",
       "      <td>0.0</td>\n",
       "      <td>0.0</td>\n",
       "      <td>0.0</td>\n",
       "      <td>0.0</td>\n",
       "      <td>0</td>\n",
       "    </tr>\n",
       "    <tr>\n",
       "      <th>133</th>\n",
       "      <td>943.0</td>\n",
       "      <td>Transferencias a otras Entidades Locales</td>\n",
       "      <td>0.0</td>\n",
       "      <td>0.0</td>\n",
       "      <td>0.0</td>\n",
       "      <td>0.0</td>\n",
       "      <td>0.0</td>\n",
       "      <td>0.0</td>\n",
       "      <td>0.0</td>\n",
       "      <td>0.0</td>\n",
       "      <td>0</td>\n",
       "    </tr>\n",
       "    <tr>\n",
       "      <th>134</th>\n",
       "      <td>944.0</td>\n",
       "      <td>Transferencias a la Administración General del...</td>\n",
       "      <td>0.0</td>\n",
       "      <td>0.0</td>\n",
       "      <td>0.0</td>\n",
       "      <td>0.0</td>\n",
       "      <td>0.0</td>\n",
       "      <td>0.0</td>\n",
       "      <td>0.0</td>\n",
       "      <td>0.0</td>\n",
       "      <td>0</td>\n",
       "    </tr>\n",
       "  </tbody>\n",
       "</table>\n",
       "</div>"
      ],
      "text/plain": [
       "     Código                                             Nombre  \\\n",
       "130    94.0   Transferencias a otras Administraciones Públicas   \n",
       "131   941.0             Transferencias a Comunidades Autónomas   \n",
       "132   942.0   Transferencias a Entidades Locales territoriales   \n",
       "133   943.0           Transferencias a otras Entidades Locales   \n",
       "134   944.0  Transferencias a la Administración General del...   \n",
       "\n",
       "     1: GASTOS DE PERSONAL  2: GASTOS CORRIENTES EN BIENES Y SERVICIOS  \\\n",
       "130                    0.0                                         0.0   \n",
       "131                    0.0                                         0.0   \n",
       "132                    0.0                                         0.0   \n",
       "133                    0.0                                         0.0   \n",
       "134                    0.0                                         0.0   \n",
       "\n",
       "     3: GASTOS FINANCIEROS  4: TRANSFERENCIAS CORRIENTES  \\\n",
       "130                    0.0                           0.0   \n",
       "131                    0.0                           0.0   \n",
       "132                    0.0                           0.0   \n",
       "133                    0.0                           0.0   \n",
       "134                    0.0                           0.0   \n",
       "\n",
       "     5: FONDO DE CONTINGENCIA Y OTROS IMPREVISTOS  6: INVERSIONES REALES  \\\n",
       "130                                           0.0                    0.0   \n",
       "131                                           0.0                    0.0   \n",
       "132                                           0.0                    0.0   \n",
       "133                                           0.0                    0.0   \n",
       "134                                           0.0                    0.0   \n",
       "\n",
       "     7: TRANSFERENCIAS DE CAPITAL  8: ACTIVOS FINANCIEROS  \\\n",
       "130                           0.0                     0.0   \n",
       "131                           0.0                     0.0   \n",
       "132                           0.0                     0.0   \n",
       "133                           0.0                     0.0   \n",
       "134                           0.0                     0.0   \n",
       "\n",
       "     9: PASIVOS FINANCIEROS  \n",
       "130                       0  \n",
       "131                       0  \n",
       "132                       0  \n",
       "133                       0  \n",
       "134                       0  "
      ]
     },
     "execution_count": 54,
     "metadata": {},
     "output_type": "execute_result"
    }
   ],
   "source": [
    "df.tail()"
   ]
  },
  {
   "cell_type": "markdown",
   "metadata": {},
   "source": [
    "### Columnas\n",
    "\n",
    "Se puede mostrar el nombre de las columnas de la tabla mediante ```df.columns```"
   ]
  },
  {
   "cell_type": "code",
   "execution_count": 60,
   "metadata": {},
   "outputs": [
    {
     "data": {
      "text/plain": [
       "Index(['Código', 'Nombre', '1: GASTOS DE PERSONAL',\n",
       "       '2: GASTOS CORRIENTES EN BIENES Y SERVICIOS', '3: GASTOS FINANCIEROS',\n",
       "       '4: TRANSFERENCIAS CORRIENTES',\n",
       "       '5: FONDO DE CONTINGENCIA Y OTROS IMPREVISTOS', '6: INVERSIONES REALES',\n",
       "       '7: TRANSFERENCIAS DE CAPITAL', '8: ACTIVOS FINANCIEROS',\n",
       "       '9: PASIVOS FINANCIEROS'],\n",
       "      dtype='object')"
      ]
     },
     "execution_count": 60,
     "metadata": {},
     "output_type": "execute_result"
    }
   ],
   "source": [
    "df.columns"
   ]
  },
  {
   "cell_type": "markdown",
   "metadata": {},
   "source": [
    "También se pueden mostrar columnas en concreto mediante ```df['nombre de la columna']``` \n",
    "\n",
    "A continuación se ejemplifica con la columna \"1: GASTOS DE PERSONAL\""
   ]
  },
  {
   "cell_type": "code",
   "execution_count": 57,
   "metadata": {},
   "outputs": [
    {
     "data": {
      "text/plain": [
       "0      77198659.02\n",
       "1             0.00\n",
       "2             0.00\n",
       "3             0.00\n",
       "4      19082029.47\n",
       "          ...     \n",
       "130           0.00\n",
       "131           0.00\n",
       "132           0.00\n",
       "133           0.00\n",
       "134           0.00\n",
       "Name: 1: GASTOS DE PERSONAL, Length: 135, dtype: float64"
      ]
     },
     "execution_count": 57,
     "metadata": {},
     "output_type": "execute_result"
    }
   ],
   "source": [
    "df['1: GASTOS DE PERSONAL']"
   ]
  },
  {
   "cell_type": "markdown",
   "metadata": {},
   "source": [
    "También se puede mostrar una fila en concreto de la columna especificada, añadiendo el número de dicha fila a contuación del nombre"
   ]
  },
  {
   "cell_type": "code",
   "execution_count": 59,
   "metadata": {},
   "outputs": [
    {
     "data": {
      "text/plain": [
       "19082029.47"
      ]
     },
     "execution_count": 59,
     "metadata": {},
     "output_type": "execute_result"
    }
   ],
   "source": [
    "df['1: GASTOS DE PERSONAL'][4]"
   ]
  },
  {
   "cell_type": "markdown",
   "metadata": {},
   "source": [
    "### Mostramos las variables estadísticas\n",
    "\n",
    "Mediante ```df_es.describe()``` se muestran las variables estadísticas del dataframe, algo que no se muestra normalmente"
   ]
  },
  {
   "cell_type": "code",
   "execution_count": 61,
   "metadata": {},
   "outputs": [
    {
     "data": {
      "text/html": [
       "<div>\n",
       "<style scoped>\n",
       "    .dataframe tbody tr th:only-of-type {\n",
       "        vertical-align: middle;\n",
       "    }\n",
       "\n",
       "    .dataframe tbody tr th {\n",
       "        vertical-align: top;\n",
       "    }\n",
       "\n",
       "    .dataframe thead th {\n",
       "        text-align: right;\n",
       "    }\n",
       "</style>\n",
       "<table border=\"1\" class=\"dataframe\">\n",
       "  <thead>\n",
       "    <tr style=\"text-align: right;\">\n",
       "      <th></th>\n",
       "      <th>Código</th>\n",
       "      <th>1: GASTOS DE PERSONAL</th>\n",
       "      <th>2: GASTOS CORRIENTES EN BIENES Y SERVICIOS</th>\n",
       "      <th>3: GASTOS FINANCIEROS</th>\n",
       "      <th>4: TRANSFERENCIAS CORRIENTES</th>\n",
       "      <th>5: FONDO DE CONTINGENCIA Y OTROS IMPREVISTOS</th>\n",
       "      <th>6: INVERSIONES REALES</th>\n",
       "      <th>7: TRANSFERENCIAS DE CAPITAL</th>\n",
       "      <th>8: ACTIVOS FINANCIEROS</th>\n",
       "      <th>9: PASIVOS FINANCIEROS</th>\n",
       "    </tr>\n",
       "  </thead>\n",
       "  <tbody>\n",
       "    <tr>\n",
       "      <th>count</th>\n",
       "      <td>134.000000</td>\n",
       "      <td>1.350000e+02</td>\n",
       "      <td>1.350000e+02</td>\n",
       "      <td>135.000000</td>\n",
       "      <td>1.350000e+02</td>\n",
       "      <td>135.000000</td>\n",
       "      <td>1.350000e+02</td>\n",
       "      <td>135.000000</td>\n",
       "      <td>135.000000</td>\n",
       "      <td>135.0</td>\n",
       "    </tr>\n",
       "    <tr>\n",
       "      <th>mean</th>\n",
       "      <td>663.664179</td>\n",
       "      <td>2.307653e+06</td>\n",
       "      <td>2.268701e+06</td>\n",
       "      <td>18171.000296</td>\n",
       "      <td>1.881666e+05</td>\n",
       "      <td>15.666370</td>\n",
       "      <td>1.047493e+06</td>\n",
       "      <td>2370.370370</td>\n",
       "      <td>5780.740741</td>\n",
       "      <td>0.0</td>\n",
       "    </tr>\n",
       "    <tr>\n",
       "      <th>std</th>\n",
       "      <td>1180.397046</td>\n",
       "      <td>7.959743e+06</td>\n",
       "      <td>7.526748e+06</td>\n",
       "      <td>98585.496389</td>\n",
       "      <td>6.834606e+05</td>\n",
       "      <td>89.988814</td>\n",
       "      <td>3.767106e+06</td>\n",
       "      <td>13615.586295</td>\n",
       "      <td>33205.011077</td>\n",
       "      <td>0.0</td>\n",
       "    </tr>\n",
       "    <tr>\n",
       "      <th>min</th>\n",
       "      <td>0.000000</td>\n",
       "      <td>0.000000e+00</td>\n",
       "      <td>0.000000e+00</td>\n",
       "      <td>0.000000</td>\n",
       "      <td>0.000000e+00</td>\n",
       "      <td>0.000000</td>\n",
       "      <td>0.000000e+00</td>\n",
       "      <td>0.000000</td>\n",
       "      <td>0.000000</td>\n",
       "      <td>0.0</td>\n",
       "    </tr>\n",
       "    <tr>\n",
       "      <th>25%</th>\n",
       "      <td>133.250000</td>\n",
       "      <td>0.000000e+00</td>\n",
       "      <td>0.000000e+00</td>\n",
       "      <td>0.000000</td>\n",
       "      <td>0.000000e+00</td>\n",
       "      <td>0.000000</td>\n",
       "      <td>0.000000e+00</td>\n",
       "      <td>0.000000</td>\n",
       "      <td>0.000000</td>\n",
       "      <td>0.0</td>\n",
       "    </tr>\n",
       "    <tr>\n",
       "      <th>50%</th>\n",
       "      <td>333.500000</td>\n",
       "      <td>0.000000e+00</td>\n",
       "      <td>1.000000e+04</td>\n",
       "      <td>0.000000</td>\n",
       "      <td>0.000000e+00</td>\n",
       "      <td>0.000000</td>\n",
       "      <td>0.000000e+00</td>\n",
       "      <td>0.000000</td>\n",
       "      <td>0.000000</td>\n",
       "      <td>0.0</td>\n",
       "    </tr>\n",
       "    <tr>\n",
       "      <th>75%</th>\n",
       "      <td>491.750000</td>\n",
       "      <td>1.203482e+06</td>\n",
       "      <td>1.446545e+06</td>\n",
       "      <td>0.000000</td>\n",
       "      <td>3.000000e+03</td>\n",
       "      <td>0.000000</td>\n",
       "      <td>1.122241e+05</td>\n",
       "      <td>0.000000</td>\n",
       "      <td>0.000000</td>\n",
       "      <td>0.0</td>\n",
       "    </tr>\n",
       "    <tr>\n",
       "      <th>max</th>\n",
       "      <td>9231.000000</td>\n",
       "      <td>7.719866e+07</td>\n",
       "      <td>7.357303e+07</td>\n",
       "      <td>613271.260000</td>\n",
       "      <td>6.294124e+06</td>\n",
       "      <td>528.740000</td>\n",
       "      <td>3.317414e+07</td>\n",
       "      <td>80000.000000</td>\n",
       "      <td>195100.000000</td>\n",
       "      <td>0.0</td>\n",
       "    </tr>\n",
       "  </tbody>\n",
       "</table>\n",
       "</div>"
      ],
      "text/plain": [
       "            Código  1: GASTOS DE PERSONAL  \\\n",
       "count   134.000000           1.350000e+02   \n",
       "mean    663.664179           2.307653e+06   \n",
       "std    1180.397046           7.959743e+06   \n",
       "min       0.000000           0.000000e+00   \n",
       "25%     133.250000           0.000000e+00   \n",
       "50%     333.500000           0.000000e+00   \n",
       "75%     491.750000           1.203482e+06   \n",
       "max    9231.000000           7.719866e+07   \n",
       "\n",
       "       2: GASTOS CORRIENTES EN BIENES Y SERVICIOS  3: GASTOS FINANCIEROS  \\\n",
       "count                                1.350000e+02             135.000000   \n",
       "mean                                 2.268701e+06           18171.000296   \n",
       "std                                  7.526748e+06           98585.496389   \n",
       "min                                  0.000000e+00               0.000000   \n",
       "25%                                  0.000000e+00               0.000000   \n",
       "50%                                  1.000000e+04               0.000000   \n",
       "75%                                  1.446545e+06               0.000000   \n",
       "max                                  7.357303e+07          613271.260000   \n",
       "\n",
       "       4: TRANSFERENCIAS CORRIENTES  \\\n",
       "count                  1.350000e+02   \n",
       "mean                   1.881666e+05   \n",
       "std                    6.834606e+05   \n",
       "min                    0.000000e+00   \n",
       "25%                    0.000000e+00   \n",
       "50%                    0.000000e+00   \n",
       "75%                    3.000000e+03   \n",
       "max                    6.294124e+06   \n",
       "\n",
       "       5: FONDO DE CONTINGENCIA Y OTROS IMPREVISTOS  6: INVERSIONES REALES  \\\n",
       "count                                    135.000000           1.350000e+02   \n",
       "mean                                      15.666370           1.047493e+06   \n",
       "std                                       89.988814           3.767106e+06   \n",
       "min                                        0.000000           0.000000e+00   \n",
       "25%                                        0.000000           0.000000e+00   \n",
       "50%                                        0.000000           0.000000e+00   \n",
       "75%                                        0.000000           1.122241e+05   \n",
       "max                                      528.740000           3.317414e+07   \n",
       "\n",
       "       7: TRANSFERENCIAS DE CAPITAL  8: ACTIVOS FINANCIEROS  \\\n",
       "count                    135.000000              135.000000   \n",
       "mean                    2370.370370             5780.740741   \n",
       "std                    13615.586295            33205.011077   \n",
       "min                        0.000000                0.000000   \n",
       "25%                        0.000000                0.000000   \n",
       "50%                        0.000000                0.000000   \n",
       "75%                        0.000000                0.000000   \n",
       "max                    80000.000000           195100.000000   \n",
       "\n",
       "       9: PASIVOS FINANCIEROS  \n",
       "count                   135.0  \n",
       "mean                      0.0  \n",
       "std                       0.0  \n",
       "min                       0.0  \n",
       "25%                       0.0  \n",
       "50%                       0.0  \n",
       "75%                       0.0  \n",
       "max                       0.0  "
      ]
     },
     "execution_count": 61,
     "metadata": {},
     "output_type": "execute_result"
    }
   ],
   "source": [
    "df.describe()"
   ]
  },
  {
   "cell_type": "markdown",
   "metadata": {},
   "source": [
    "### Indexar el dataframe según una columna\n",
    "\n",
    "También es posible indexar -ordenar los datos- en función de una columna mediante ```df.set_index('')```\n",
    "\n",
    "En este caso, se indexa el dataframe según la columna \"Nombre\""
   ]
  },
  {
   "cell_type": "code",
   "execution_count": 64,
   "metadata": {},
   "outputs": [
    {
     "data": {
      "text/html": [
       "<div>\n",
       "<style scoped>\n",
       "    .dataframe tbody tr th:only-of-type {\n",
       "        vertical-align: middle;\n",
       "    }\n",
       "\n",
       "    .dataframe tbody tr th {\n",
       "        vertical-align: top;\n",
       "    }\n",
       "\n",
       "    .dataframe thead th {\n",
       "        text-align: right;\n",
       "    }\n",
       "</style>\n",
       "<table border=\"1\" class=\"dataframe\">\n",
       "  <thead>\n",
       "    <tr style=\"text-align: right;\">\n",
       "      <th></th>\n",
       "      <th>Código</th>\n",
       "      <th>1: GASTOS DE PERSONAL</th>\n",
       "      <th>2: GASTOS CORRIENTES EN BIENES Y SERVICIOS</th>\n",
       "      <th>3: GASTOS FINANCIEROS</th>\n",
       "      <th>4: TRANSFERENCIAS CORRIENTES</th>\n",
       "      <th>5: FONDO DE CONTINGENCIA Y OTROS IMPREVISTOS</th>\n",
       "      <th>6: INVERSIONES REALES</th>\n",
       "      <th>7: TRANSFERENCIAS DE CAPITAL</th>\n",
       "      <th>8: ACTIVOS FINANCIEROS</th>\n",
       "      <th>9: PASIVOS FINANCIEROS</th>\n",
       "    </tr>\n",
       "    <tr>\n",
       "      <th>Nombre</th>\n",
       "      <th></th>\n",
       "      <th></th>\n",
       "      <th></th>\n",
       "      <th></th>\n",
       "      <th></th>\n",
       "      <th></th>\n",
       "      <th></th>\n",
       "      <th></th>\n",
       "      <th></th>\n",
       "      <th></th>\n",
       "    </tr>\n",
       "  </thead>\n",
       "  <tbody>\n",
       "    <tr>\n",
       "      <th>Clasificación por programas</th>\n",
       "      <td>NaN</td>\n",
       "      <td>77198659.02</td>\n",
       "      <td>73573032.97</td>\n",
       "      <td>613271.26</td>\n",
       "      <td>6294124.25</td>\n",
       "      <td>528.74</td>\n",
       "      <td>33174136.93</td>\n",
       "      <td>80000.0</td>\n",
       "      <td>195100.0</td>\n",
       "      <td>0</td>\n",
       "    </tr>\n",
       "    <tr>\n",
       "      <th>DEUDA PÚBLICA</th>\n",
       "      <td>0.0</td>\n",
       "      <td>0.00</td>\n",
       "      <td>0.00</td>\n",
       "      <td>15000.00</td>\n",
       "      <td>0.00</td>\n",
       "      <td>0.00</td>\n",
       "      <td>0.00</td>\n",
       "      <td>0.0</td>\n",
       "      <td>0.0</td>\n",
       "      <td>0</td>\n",
       "    </tr>\n",
       "    <tr>\n",
       "      <th>Deuda Pública</th>\n",
       "      <td>1.0</td>\n",
       "      <td>0.00</td>\n",
       "      <td>0.00</td>\n",
       "      <td>15000.00</td>\n",
       "      <td>0.00</td>\n",
       "      <td>0.00</td>\n",
       "      <td>0.00</td>\n",
       "      <td>0.0</td>\n",
       "      <td>0.0</td>\n",
       "      <td>0</td>\n",
       "    </tr>\n",
       "    <tr>\n",
       "      <th>Deuda Pública</th>\n",
       "      <td>11.0</td>\n",
       "      <td>0.00</td>\n",
       "      <td>0.00</td>\n",
       "      <td>15000.00</td>\n",
       "      <td>0.00</td>\n",
       "      <td>0.00</td>\n",
       "      <td>0.00</td>\n",
       "      <td>0.0</td>\n",
       "      <td>0.0</td>\n",
       "      <td>0</td>\n",
       "    </tr>\n",
       "    <tr>\n",
       "      <th>SERVICIOS PÚBLICOS BÁSICOS</th>\n",
       "      <td>1.0</td>\n",
       "      <td>19082029.47</td>\n",
       "      <td>30794122.81</td>\n",
       "      <td>0.00</td>\n",
       "      <td>128000.00</td>\n",
       "      <td>0.00</td>\n",
       "      <td>18514157.84</td>\n",
       "      <td>0.0</td>\n",
       "      <td>0.0</td>\n",
       "      <td>0</td>\n",
       "    </tr>\n",
       "    <tr>\n",
       "      <th>...</th>\n",
       "      <td>...</td>\n",
       "      <td>...</td>\n",
       "      <td>...</td>\n",
       "      <td>...</td>\n",
       "      <td>...</td>\n",
       "      <td>...</td>\n",
       "      <td>...</td>\n",
       "      <td>...</td>\n",
       "      <td>...</td>\n",
       "      <td>...</td>\n",
       "    </tr>\n",
       "    <tr>\n",
       "      <th>Transferencias a otras Administraciones Públicas</th>\n",
       "      <td>94.0</td>\n",
       "      <td>0.00</td>\n",
       "      <td>0.00</td>\n",
       "      <td>0.00</td>\n",
       "      <td>0.00</td>\n",
       "      <td>0.00</td>\n",
       "      <td>0.00</td>\n",
       "      <td>0.0</td>\n",
       "      <td>0.0</td>\n",
       "      <td>0</td>\n",
       "    </tr>\n",
       "    <tr>\n",
       "      <th>Transferencias a Comunidades Autónomas</th>\n",
       "      <td>941.0</td>\n",
       "      <td>0.00</td>\n",
       "      <td>0.00</td>\n",
       "      <td>0.00</td>\n",
       "      <td>0.00</td>\n",
       "      <td>0.00</td>\n",
       "      <td>0.00</td>\n",
       "      <td>0.0</td>\n",
       "      <td>0.0</td>\n",
       "      <td>0</td>\n",
       "    </tr>\n",
       "    <tr>\n",
       "      <th>Transferencias a Entidades Locales territoriales</th>\n",
       "      <td>942.0</td>\n",
       "      <td>0.00</td>\n",
       "      <td>0.00</td>\n",
       "      <td>0.00</td>\n",
       "      <td>0.00</td>\n",
       "      <td>0.00</td>\n",
       "      <td>0.00</td>\n",
       "      <td>0.0</td>\n",
       "      <td>0.0</td>\n",
       "      <td>0</td>\n",
       "    </tr>\n",
       "    <tr>\n",
       "      <th>Transferencias a otras Entidades Locales</th>\n",
       "      <td>943.0</td>\n",
       "      <td>0.00</td>\n",
       "      <td>0.00</td>\n",
       "      <td>0.00</td>\n",
       "      <td>0.00</td>\n",
       "      <td>0.00</td>\n",
       "      <td>0.00</td>\n",
       "      <td>0.0</td>\n",
       "      <td>0.0</td>\n",
       "      <td>0</td>\n",
       "    </tr>\n",
       "    <tr>\n",
       "      <th>Transferencias a la Administración General del Estado</th>\n",
       "      <td>944.0</td>\n",
       "      <td>0.00</td>\n",
       "      <td>0.00</td>\n",
       "      <td>0.00</td>\n",
       "      <td>0.00</td>\n",
       "      <td>0.00</td>\n",
       "      <td>0.00</td>\n",
       "      <td>0.0</td>\n",
       "      <td>0.0</td>\n",
       "      <td>0</td>\n",
       "    </tr>\n",
       "  </tbody>\n",
       "</table>\n",
       "<p>135 rows × 10 columns</p>\n",
       "</div>"
      ],
      "text/plain": [
       "                                                    Código  \\\n",
       "Nombre                                                       \n",
       "Clasificación por programas                            NaN   \n",
       "DEUDA PÚBLICA                                          0.0   \n",
       "Deuda Pública                                          1.0   \n",
       "Deuda Pública                                         11.0   \n",
       "SERVICIOS PÚBLICOS BÁSICOS                             1.0   \n",
       "...                                                    ...   \n",
       "Transferencias a otras Administraciones Públicas      94.0   \n",
       "Transferencias a Comunidades Autónomas               941.0   \n",
       "Transferencias a Entidades Locales territoriales     942.0   \n",
       "Transferencias a otras Entidades Locales             943.0   \n",
       "Transferencias a la Administración General del ...   944.0   \n",
       "\n",
       "                                                    1: GASTOS DE PERSONAL  \\\n",
       "Nombre                                                                      \n",
       "Clasificación por programas                                   77198659.02   \n",
       "DEUDA PÚBLICA                                                        0.00   \n",
       "Deuda Pública                                                        0.00   \n",
       "Deuda Pública                                                        0.00   \n",
       "SERVICIOS PÚBLICOS BÁSICOS                                    19082029.47   \n",
       "...                                                                   ...   \n",
       "Transferencias a otras Administraciones Públicas                     0.00   \n",
       "Transferencias a Comunidades Autónomas                               0.00   \n",
       "Transferencias a Entidades Locales territoriales                     0.00   \n",
       "Transferencias a otras Entidades Locales                             0.00   \n",
       "Transferencias a la Administración General del ...                   0.00   \n",
       "\n",
       "                                                    2: GASTOS CORRIENTES EN BIENES Y SERVICIOS  \\\n",
       "Nombre                                                                                           \n",
       "Clasificación por programas                                                        73573032.97   \n",
       "DEUDA PÚBLICA                                                                             0.00   \n",
       "Deuda Pública                                                                             0.00   \n",
       "Deuda Pública                                                                             0.00   \n",
       "SERVICIOS PÚBLICOS BÁSICOS                                                         30794122.81   \n",
       "...                                                                                        ...   \n",
       "Transferencias a otras Administraciones Públicas                                          0.00   \n",
       "Transferencias a Comunidades Autónomas                                                    0.00   \n",
       "Transferencias a Entidades Locales territoriales                                          0.00   \n",
       "Transferencias a otras Entidades Locales                                                  0.00   \n",
       "Transferencias a la Administración General del ...                                        0.00   \n",
       "\n",
       "                                                    3: GASTOS FINANCIEROS  \\\n",
       "Nombre                                                                      \n",
       "Clasificación por programas                                     613271.26   \n",
       "DEUDA PÚBLICA                                                    15000.00   \n",
       "Deuda Pública                                                    15000.00   \n",
       "Deuda Pública                                                    15000.00   \n",
       "SERVICIOS PÚBLICOS BÁSICOS                                           0.00   \n",
       "...                                                                   ...   \n",
       "Transferencias a otras Administraciones Públicas                     0.00   \n",
       "Transferencias a Comunidades Autónomas                               0.00   \n",
       "Transferencias a Entidades Locales territoriales                     0.00   \n",
       "Transferencias a otras Entidades Locales                             0.00   \n",
       "Transferencias a la Administración General del ...                   0.00   \n",
       "\n",
       "                                                    4: TRANSFERENCIAS CORRIENTES  \\\n",
       "Nombre                                                                             \n",
       "Clasificación por programas                                           6294124.25   \n",
       "DEUDA PÚBLICA                                                               0.00   \n",
       "Deuda Pública                                                               0.00   \n",
       "Deuda Pública                                                               0.00   \n",
       "SERVICIOS PÚBLICOS BÁSICOS                                             128000.00   \n",
       "...                                                                          ...   \n",
       "Transferencias a otras Administraciones Públicas                            0.00   \n",
       "Transferencias a Comunidades Autónomas                                      0.00   \n",
       "Transferencias a Entidades Locales territoriales                            0.00   \n",
       "Transferencias a otras Entidades Locales                                    0.00   \n",
       "Transferencias a la Administración General del ...                          0.00   \n",
       "\n",
       "                                                    5: FONDO DE CONTINGENCIA Y OTROS IMPREVISTOS  \\\n",
       "Nombre                                                                                             \n",
       "Clasificación por programas                                                               528.74   \n",
       "DEUDA PÚBLICA                                                                               0.00   \n",
       "Deuda Pública                                                                               0.00   \n",
       "Deuda Pública                                                                               0.00   \n",
       "SERVICIOS PÚBLICOS BÁSICOS                                                                  0.00   \n",
       "...                                                                                          ...   \n",
       "Transferencias a otras Administraciones Públicas                                            0.00   \n",
       "Transferencias a Comunidades Autónomas                                                      0.00   \n",
       "Transferencias a Entidades Locales territoriales                                            0.00   \n",
       "Transferencias a otras Entidades Locales                                                    0.00   \n",
       "Transferencias a la Administración General del ...                                          0.00   \n",
       "\n",
       "                                                    6: INVERSIONES REALES  \\\n",
       "Nombre                                                                      \n",
       "Clasificación por programas                                   33174136.93   \n",
       "DEUDA PÚBLICA                                                        0.00   \n",
       "Deuda Pública                                                        0.00   \n",
       "Deuda Pública                                                        0.00   \n",
       "SERVICIOS PÚBLICOS BÁSICOS                                    18514157.84   \n",
       "...                                                                   ...   \n",
       "Transferencias a otras Administraciones Públicas                     0.00   \n",
       "Transferencias a Comunidades Autónomas                               0.00   \n",
       "Transferencias a Entidades Locales territoriales                     0.00   \n",
       "Transferencias a otras Entidades Locales                             0.00   \n",
       "Transferencias a la Administración General del ...                   0.00   \n",
       "\n",
       "                                                    7: TRANSFERENCIAS DE CAPITAL  \\\n",
       "Nombre                                                                             \n",
       "Clasificación por programas                                              80000.0   \n",
       "DEUDA PÚBLICA                                                                0.0   \n",
       "Deuda Pública                                                                0.0   \n",
       "Deuda Pública                                                                0.0   \n",
       "SERVICIOS PÚBLICOS BÁSICOS                                                   0.0   \n",
       "...                                                                          ...   \n",
       "Transferencias a otras Administraciones Públicas                             0.0   \n",
       "Transferencias a Comunidades Autónomas                                       0.0   \n",
       "Transferencias a Entidades Locales territoriales                             0.0   \n",
       "Transferencias a otras Entidades Locales                                     0.0   \n",
       "Transferencias a la Administración General del ...                           0.0   \n",
       "\n",
       "                                                    8: ACTIVOS FINANCIEROS  \\\n",
       "Nombre                                                                       \n",
       "Clasificación por programas                                       195100.0   \n",
       "DEUDA PÚBLICA                                                          0.0   \n",
       "Deuda Pública                                                          0.0   \n",
       "Deuda Pública                                                          0.0   \n",
       "SERVICIOS PÚBLICOS BÁSICOS                                             0.0   \n",
       "...                                                                    ...   \n",
       "Transferencias a otras Administraciones Públicas                       0.0   \n",
       "Transferencias a Comunidades Autónomas                                 0.0   \n",
       "Transferencias a Entidades Locales territoriales                       0.0   \n",
       "Transferencias a otras Entidades Locales                               0.0   \n",
       "Transferencias a la Administración General del ...                     0.0   \n",
       "\n",
       "                                                    9: PASIVOS FINANCIEROS  \n",
       "Nombre                                                                      \n",
       "Clasificación por programas                                              0  \n",
       "DEUDA PÚBLICA                                                            0  \n",
       "Deuda Pública                                                            0  \n",
       "Deuda Pública                                                            0  \n",
       "SERVICIOS PÚBLICOS BÁSICOS                                               0  \n",
       "...                                                                    ...  \n",
       "Transferencias a otras Administraciones Públicas                         0  \n",
       "Transferencias a Comunidades Autónomas                                   0  \n",
       "Transferencias a Entidades Locales territoriales                         0  \n",
       "Transferencias a otras Entidades Locales                                 0  \n",
       "Transferencias a la Administración General del ...                       0  \n",
       "\n",
       "[135 rows x 10 columns]"
      ]
     },
     "execution_count": 64,
     "metadata": {},
     "output_type": "execute_result"
    }
   ],
   "source": [
    "df.set_index('Nombre')"
   ]
  },
  {
   "cell_type": "code",
   "execution_count": 67,
   "metadata": {
    "scrolled": true
   },
   "outputs": [
    {
     "data": {
      "text/plain": [
       "Nombre\n",
       "Clasificación por programas                              77198659.02\n",
       "DEUDA PÚBLICA                                                   0.00\n",
       "Deuda Pública                                                   0.00\n",
       "Deuda Pública                                                   0.00\n",
       "SERVICIOS PÚBLICOS BÁSICOS                               19082029.47\n",
       "                                                            ...     \n",
       "Transferencias a otras Administraciones Públicas                0.00\n",
       "Transferencias a Comunidades Autónomas                          0.00\n",
       "Transferencias a Entidades Locales territoriales                0.00\n",
       "Transferencias a otras Entidades Locales                        0.00\n",
       "Transferencias a la Administración General del Estado           0.00\n",
       "Name: 1: GASTOS DE PERSONAL, Length: 135, dtype: float64"
      ]
     },
     "execution_count": 67,
     "metadata": {},
     "output_type": "execute_result"
    }
   ],
   "source": [
    "df.set_index('Nombre')['1: GASTOS DE PERSONAL']"
   ]
  },
  {
   "cell_type": "markdown",
   "metadata": {},
   "source": [
    "### Creación de un gráfico a partir de \"Nombre\" y \"1: GASTOS DE PERSONAL\"\n",
    "\n",
    "Una vez indexados los datos según \"Nombre\" y \"1: GASTOS DE PERSONAL\", mediante ```.plot``` se muestran los datos en un gráfico\n",
    "\n",
    "Añadiendo ```title=``` como argumento de ```.plot``` se pone un título al gráfico"
   ]
  },
  {
   "cell_type": "code",
   "execution_count": 69,
   "metadata": {},
   "outputs": [
    {
     "data": {
      "text/plain": [
       "<AxesSubplot:title={'center':'Gastos de personal'}, xlabel='Nombre'>"
      ]
     },
     "execution_count": 69,
     "metadata": {},
     "output_type": "execute_result"
    },
    {
     "data": {
      "image/png": "[encoded data removed]",
      "text/plain": [
       "<Figure size 432x288 with 1 Axes>"
      ]
     },
     "metadata": {
      "needs_background": "light"
     },
     "output_type": "display_data"
    }
   ],
   "source": [
    "df.set_index('Nombre')['1: GASTOS DE PERSONAL'].plot(title=\"Gastos de personal\")"
   ]
  },
  {
   "cell_type": "markdown",
   "metadata": {},
   "source": [
    "Debido a la longitud de las etiquetas de \"Nombre\" no se puede distinguir bien a qué nombre corresponde cada dato del gráfico"
   ]
  },
  {
   "cell_type": "markdown",
   "metadata": {},
   "source": [
    "### Creación de otro gráfico a partir de \"Nombre\" y \"3: GASTOS FINANCIEROS\"\n",
    "\n",
    "En esta ocasión se va a indexar el dataframe según \"Nombre\" y \"3: GASTOS FINANCIEROS\""
   ]
  },
  {
   "cell_type": "code",
   "execution_count": 70,
   "metadata": {},
   "outputs": [
    {
     "data": {
      "text/plain": [
       "Nombre\n",
       "Clasificación por programas                              613271.26\n",
       "DEUDA PÚBLICA                                             15000.00\n",
       "Deuda Pública                                             15000.00\n",
       "Deuda Pública                                             15000.00\n",
       "SERVICIOS PÚBLICOS BÁSICOS                                    0.00\n",
       "                                                           ...    \n",
       "Transferencias a otras Administraciones Públicas              0.00\n",
       "Transferencias a Comunidades Autónomas                        0.00\n",
       "Transferencias a Entidades Locales territoriales              0.00\n",
       "Transferencias a otras Entidades Locales                      0.00\n",
       "Transferencias a la Administración General del Estado         0.00\n",
       "Name: 3: GASTOS FINANCIEROS, Length: 135, dtype: float64"
      ]
     },
     "execution_count": 70,
     "metadata": {},
     "output_type": "execute_result"
    }
   ],
   "source": [
    "df.set_index('Nombre')['3: GASTOS FINANCIEROS']"
   ]
  },
  {
   "cell_type": "markdown",
   "metadata": {},
   "source": [
    "### Creación de un gráfico a partir de \"Nombre\" y \"3: GASTOS FINANCIEROS\"\n",
    "\n",
    "Una vez indexados los datos según \"Nombre\" y \"3: GASTOS FINANCIEROS\", mediante ```.plot``` se muestran los datos en un gráfico\n",
    "\n",
    "Además, al igual que anteriormente, añadiendo ```title=``` como argumento de ```.plot``` se pone un título al gráfico"
   ]
  },
  {
   "cell_type": "code",
   "execution_count": 71,
   "metadata": {},
   "outputs": [
    {
     "data": {
      "text/plain": [
       "<AxesSubplot:title={'center':'Gastos financieros'}, xlabel='Nombre'>"
      ]
     },
     "execution_count": 71,
     "metadata": {},
     "output_type": "execute_result"
    },
    {
     "data": {
      "image/png": "[encoded data removed]",
      "text/plain": [
       "<Figure size 432x288 with 1 Axes>"
      ]
     },
     "metadata": {
      "needs_background": "light"
     },
     "output_type": "display_data"
    }
   ],
   "source": [
    "df.set_index('Nombre')['3: GASTOS FINANCIEROS'].plot(title=\"Gastos financieros\")"
   ]
  },
  {
   "cell_type": "markdown",
   "metadata": {},
   "source": [
    "Al igual que en el anterior gráfico, debido a la longitud de las etiquetas de \"Nombre\" no se puede distinguir bien a qué nombre corresponde cada dato del gráfico"
   ]
  },
  {
   "cell_type": "markdown",
   "metadata": {},
   "source": [
    "### Comparación de Gastos de personal y Gastos financieros\n",
    "\n",
    "A continuación se van a comparar los Gastos de personal y Gastos financieros en base al nombre\n",
    "\n",
    "Para ello se deben definir dos nuevas variables, una para cada gasto"
   ]
  },
  {
   "cell_type": "code",
   "execution_count": 72,
   "metadata": {},
   "outputs": [],
   "source": [
    "gastos_pers = df.set_index('Nombre')['1: GASTOS DE PERSONAL']\n",
    "gastos_fin = df.set_index('Nombre')['3: GASTOS FINANCIEROS']"
   ]
  },
  {
   "cell_type": "markdown",
   "metadata": {},
   "source": [
    "Antes de crear un dataframe y un gráfico con estos datos, es necesario concatearlos mediante ```vs```"
   ]
  },
  {
   "cell_type": "code",
   "execution_count": 73,
   "metadata": {},
   "outputs": [
    {
     "data": {
      "text/html": [
       "<div>\n",
       "<style scoped>\n",
       "    .dataframe tbody tr th:only-of-type {\n",
       "        vertical-align: middle;\n",
       "    }\n",
       "\n",
       "    .dataframe tbody tr th {\n",
       "        vertical-align: top;\n",
       "    }\n",
       "\n",
       "    .dataframe thead th {\n",
       "        text-align: right;\n",
       "    }\n",
       "</style>\n",
       "<table border=\"1\" class=\"dataframe\">\n",
       "  <thead>\n",
       "    <tr style=\"text-align: right;\">\n",
       "      <th></th>\n",
       "      <th>1: GASTOS DE PERSONAL</th>\n",
       "      <th>3: GASTOS FINANCIEROS</th>\n",
       "    </tr>\n",
       "    <tr>\n",
       "      <th>Nombre</th>\n",
       "      <th></th>\n",
       "      <th></th>\n",
       "    </tr>\n",
       "  </thead>\n",
       "  <tbody>\n",
       "    <tr>\n",
       "      <th>Clasificación por programas</th>\n",
       "      <td>77198659.02</td>\n",
       "      <td>613271.26</td>\n",
       "    </tr>\n",
       "    <tr>\n",
       "      <th>DEUDA PÚBLICA</th>\n",
       "      <td>0.00</td>\n",
       "      <td>15000.00</td>\n",
       "    </tr>\n",
       "    <tr>\n",
       "      <th>Deuda Pública</th>\n",
       "      <td>0.00</td>\n",
       "      <td>15000.00</td>\n",
       "    </tr>\n",
       "    <tr>\n",
       "      <th>Deuda Pública</th>\n",
       "      <td>0.00</td>\n",
       "      <td>15000.00</td>\n",
       "    </tr>\n",
       "    <tr>\n",
       "      <th>SERVICIOS PÚBLICOS BÁSICOS</th>\n",
       "      <td>19082029.47</td>\n",
       "      <td>0.00</td>\n",
       "    </tr>\n",
       "    <tr>\n",
       "      <th>...</th>\n",
       "      <td>...</td>\n",
       "      <td>...</td>\n",
       "    </tr>\n",
       "    <tr>\n",
       "      <th>Transferencias a otras Administraciones Públicas</th>\n",
       "      <td>0.00</td>\n",
       "      <td>0.00</td>\n",
       "    </tr>\n",
       "    <tr>\n",
       "      <th>Transferencias a Comunidades Autónomas</th>\n",
       "      <td>0.00</td>\n",
       "      <td>0.00</td>\n",
       "    </tr>\n",
       "    <tr>\n",
       "      <th>Transferencias a Entidades Locales territoriales</th>\n",
       "      <td>0.00</td>\n",
       "      <td>0.00</td>\n",
       "    </tr>\n",
       "    <tr>\n",
       "      <th>Transferencias a otras Entidades Locales</th>\n",
       "      <td>0.00</td>\n",
       "      <td>0.00</td>\n",
       "    </tr>\n",
       "    <tr>\n",
       "      <th>Transferencias a la Administración General del Estado</th>\n",
       "      <td>0.00</td>\n",
       "      <td>0.00</td>\n",
       "    </tr>\n",
       "  </tbody>\n",
       "</table>\n",
       "<p>135 rows × 2 columns</p>\n",
       "</div>"
      ],
      "text/plain": [
       "                                                    1: GASTOS DE PERSONAL  \\\n",
       "Nombre                                                                      \n",
       "Clasificación por programas                                   77198659.02   \n",
       "DEUDA PÚBLICA                                                        0.00   \n",
       "Deuda Pública                                                        0.00   \n",
       "Deuda Pública                                                        0.00   \n",
       "SERVICIOS PÚBLICOS BÁSICOS                                    19082029.47   \n",
       "...                                                                   ...   \n",
       "Transferencias a otras Administraciones Públicas                     0.00   \n",
       "Transferencias a Comunidades Autónomas                               0.00   \n",
       "Transferencias a Entidades Locales territoriales                     0.00   \n",
       "Transferencias a otras Entidades Locales                             0.00   \n",
       "Transferencias a la Administración General del ...                   0.00   \n",
       "\n",
       "                                                    3: GASTOS FINANCIEROS  \n",
       "Nombre                                                                     \n",
       "Clasificación por programas                                     613271.26  \n",
       "DEUDA PÚBLICA                                                    15000.00  \n",
       "Deuda Pública                                                    15000.00  \n",
       "Deuda Pública                                                    15000.00  \n",
       "SERVICIOS PÚBLICOS BÁSICOS                                           0.00  \n",
       "...                                                                   ...  \n",
       "Transferencias a otras Administraciones Públicas                     0.00  \n",
       "Transferencias a Comunidades Autónomas                               0.00  \n",
       "Transferencias a Entidades Locales territoriales                     0.00  \n",
       "Transferencias a otras Entidades Locales                             0.00  \n",
       "Transferencias a la Administración General del ...                   0.00  \n",
       "\n",
       "[135 rows x 2 columns]"
      ]
     },
     "execution_count": 73,
     "metadata": {},
     "output_type": "execute_result"
    }
   ],
   "source": [
    "vs = pd.concat([gastos_pers,gastos_fin],axis=1)\n",
    "vs"
   ]
  },
  {
   "cell_type": "markdown",
   "metadata": {},
   "source": [
    "### Creación de un gráfico de comparación\n",
    "\n",
    "Una vez concatenados los datos de ambos gastos, se puede crear un gráfico con ellos"
   ]
  },
  {
   "cell_type": "code",
   "execution_count": 74,
   "metadata": {},
   "outputs": [
    {
     "data": {
      "text/plain": [
       "<AxesSubplot:title={'center':'Gastos de personal vs gastos financieros'}, xlabel='Nombre'>"
      ]
     },
     "execution_count": 74,
     "metadata": {},
     "output_type": "execute_result"
    },
    {
     "data": {
      "image/png": "[encoded data removed]",
      "text/plain": [
       "<Figure size 432x288 with 1 Axes>"
      ]
     },
     "metadata": {
      "needs_background": "light"
     },
     "output_type": "display_data"
    }
   ],
   "source": [
    "vs.columns =['1: GASTOS DE PERSONAL', '3: GASTOS FINANCIEROS']\n",
    "vs.plot(title=\"Gastos de personal vs gastos financieros\")"
   ]
  },
  {
   "cell_type": "markdown",
   "metadata": {},
   "source": [
    "### Guardamos en un csv\n",
    "\n",
    "Ahora guardamos todo lo visto en un archivo csv"
   ]
  },
  {
   "cell_type": "code",
   "execution_count": 76,
   "metadata": {},
   "outputs": [],
   "source": [
    "vs.to_csv('gastos.csv')"
   ]
  },
  {
   "cell_type": "markdown",
   "metadata": {},
   "source": [
    "Comprobamos que el archivo se ha creado con ```ls```, y como este es un comando de bash, se pone ```!``` para poder usarlo"
   ]
  },
  {
   "cell_type": "code",
   "execution_count": 77,
   "metadata": {},
   "outputs": [
    {
     "name": "stdout",
     "output_type": "stream",
     "text": [
      "api-pandas-folium.ipynb  probando-con-r.ipynb\t\t  Shared_Resources\r\n",
      "escit.png\t\t python-api-covid19-pandas.ipynb  Untitled.ipynb\r\n",
      "esvit.csv\t\t python-pruebas.ipynb\r\n",
      "gastos.csv\t\t seaborn-data\r\n"
     ]
    }
   ],
   "source": [
    "!ls"
   ]
  },
  {
   "cell_type": "markdown",
   "metadata": {},
   "source": [
    "Importamos matplotlib.pyplot y lo redefinimos como plt\n",
    "\n",
    "También uardamos el gráfico "
   ]
  },
  {
   "cell_type": "code",
   "execution_count": 78,
   "metadata": {},
   "outputs": [
    {
     "data": {
      "image/png": "[encoded data removed]",
      "text/plain": [
       "<Figure size 432x288 with 1 Axes>"
      ]
     },
     "metadata": {
      "needs_background": "light"
     },
     "output_type": "display_data"
    }
   ],
   "source": [
    "import matplotlib.pyplot as plt\n",
    "vs.plot()\n",
    "plt.savefig('gastos.png')"
   ]
  }
 ],
 "metadata": {
  "kernelspec": {
   "display_name": "Python 3",
   "language": "python",
   "name": "python3"
  },
  "language_info": {
   "codemirror_mode": {
    "name": "ipython",
    "version": 3
   },
   "file_extension": ".py",
   "mimetype": "text/x-python",
   "name": "python",
   "nbconvert_exporter": "python",
   "pygments_lexer": "ipython3",
   "version": "3.8.10"
  }
 },
 "nbformat": 4,
 "nbformat_minor": 4
}
